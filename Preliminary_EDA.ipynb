{
 "cells": [
  {
   "cell_type": "markdown",
   "id": "be036a74-9307-46ac-bb17-c3b0f2fb1733",
   "metadata": {},
   "source": [
    "## Reading dataset from R"
   ]
  },
  {
   "cell_type": "code",
   "execution_count": 2,
   "id": "c50ea4c7-7e6a-4296-96e0-9787a3886dfa",
   "metadata": {},
   "outputs": [
    {
     "name": "stderr",
     "output_type": "stream",
     "text": [
      "── \u001b[1mAttaching packages\u001b[22m ─────────────────────────────────────── tidyverse 1.3.1 ──\n",
      "\n",
      "\u001b[32m✔\u001b[39m \u001b[34mggplot2\u001b[39m 3.3.6     \u001b[32m✔\u001b[39m \u001b[34mpurrr  \u001b[39m 0.3.4\n",
      "\u001b[32m✔\u001b[39m \u001b[34mtibble \u001b[39m 3.1.7     \u001b[32m✔\u001b[39m \u001b[34mdplyr  \u001b[39m 1.0.9\n",
      "\u001b[32m✔\u001b[39m \u001b[34mtidyr  \u001b[39m 1.2.0     \u001b[32m✔\u001b[39m \u001b[34mstringr\u001b[39m 1.4.0\n",
      "\u001b[32m✔\u001b[39m \u001b[34mreadr  \u001b[39m 2.1.2     \u001b[32m✔\u001b[39m \u001b[34mforcats\u001b[39m 0.5.1\n",
      "\n",
      "── \u001b[1mConflicts\u001b[22m ────────────────────────────────────────── tidyverse_conflicts() ──\n",
      "\u001b[31m✖\u001b[39m \u001b[34mdplyr\u001b[39m::\u001b[32mfilter()\u001b[39m masks \u001b[34mstats\u001b[39m::filter()\n",
      "\u001b[31m✖\u001b[39m \u001b[34mdplyr\u001b[39m::\u001b[32mlag()\u001b[39m    masks \u001b[34mstats\u001b[39m::lag()\n",
      "\n"
     ]
    }
   ],
   "source": [
    "library(tidyverse)"
   ]
  },
  {
   "cell_type": "code",
   "execution_count": 4,
   "id": "de2920c8-2eef-42ab-a8ea-830538d10661",
   "metadata": {},
   "outputs": [
    {
     "name": "stderr",
     "output_type": "stream",
     "text": [
      "\u001b[1mRows: \u001b[22m\u001b[34m3276\u001b[39m \u001b[1mColumns: \u001b[22m\u001b[34m10\u001b[39m\n",
      "\u001b[36m──\u001b[39m \u001b[1mColumn specification\u001b[22m \u001b[36m────────────────────────────────────────────────────────\u001b[39m\n",
      "\u001b[1mDelimiter:\u001b[22m \",\"\n",
      "\u001b[32mdbl\u001b[39m (10): ph, Hardness, Solids, Chloramines, Sulfate, Conductivity, Organic_...\n",
      "\n",
      "\u001b[36mℹ\u001b[39m Use `spec()` to retrieve the full column specification for this data.\n",
      "\u001b[36mℹ\u001b[39m Specify the column types or set `show_col_types = FALSE` to quiet this message.\n"
     ]
    },
    {
     "data": {
      "text/html": [
       "<table class=\"dataframe\">\n",
       "<caption>A tibble: 6 × 10</caption>\n",
       "<thead>\n",
       "\t<tr><th scope=col>ph</th><th scope=col>Hardness</th><th scope=col>Solids</th><th scope=col>Chloramines</th><th scope=col>Sulfate</th><th scope=col>Conductivity</th><th scope=col>Organic_carbon</th><th scope=col>Trihalomethanes</th><th scope=col>Turbidity</th><th scope=col>Potability</th></tr>\n",
       "\t<tr><th scope=col>&lt;dbl&gt;</th><th scope=col>&lt;dbl&gt;</th><th scope=col>&lt;dbl&gt;</th><th scope=col>&lt;dbl&gt;</th><th scope=col>&lt;dbl&gt;</th><th scope=col>&lt;dbl&gt;</th><th scope=col>&lt;dbl&gt;</th><th scope=col>&lt;dbl&gt;</th><th scope=col>&lt;dbl&gt;</th><th scope=col>&lt;dbl&gt;</th></tr>\n",
       "</thead>\n",
       "<tbody>\n",
       "\t<tr><td>      NA</td><td>204.8905</td><td>20791.32</td><td>7.300212</td><td>368.5164</td><td>564.3087</td><td>10.379783</td><td> 86.99097</td><td>2.963135</td><td>0</td></tr>\n",
       "\t<tr><td>3.716080</td><td>129.4229</td><td>18630.06</td><td>6.635246</td><td>      NA</td><td>592.8854</td><td>15.180013</td><td> 56.32908</td><td>4.500656</td><td>0</td></tr>\n",
       "\t<tr><td>8.099124</td><td>224.2363</td><td>19909.54</td><td>9.275884</td><td>      NA</td><td>418.6062</td><td>16.868637</td><td> 66.42009</td><td>3.055934</td><td>0</td></tr>\n",
       "\t<tr><td>8.316766</td><td>214.3734</td><td>22018.42</td><td>8.059332</td><td>356.8861</td><td>363.2665</td><td>18.436524</td><td>100.34167</td><td>4.628771</td><td>0</td></tr>\n",
       "\t<tr><td>9.092223</td><td>181.1015</td><td>17978.99</td><td>6.546600</td><td>310.1357</td><td>398.4108</td><td>11.558279</td><td> 31.99799</td><td>4.075075</td><td>0</td></tr>\n",
       "\t<tr><td>5.584087</td><td>188.3133</td><td>28748.69</td><td>7.544869</td><td>326.6784</td><td>280.4679</td><td> 8.399735</td><td> 54.91786</td><td>2.559708</td><td>0</td></tr>\n",
       "</tbody>\n",
       "</table>\n"
      ],
      "text/latex": [
       "A tibble: 6 × 10\n",
       "\\begin{tabular}{llllllllll}\n",
       " ph & Hardness & Solids & Chloramines & Sulfate & Conductivity & Organic\\_carbon & Trihalomethanes & Turbidity & Potability\\\\\n",
       " <dbl> & <dbl> & <dbl> & <dbl> & <dbl> & <dbl> & <dbl> & <dbl> & <dbl> & <dbl>\\\\\n",
       "\\hline\n",
       "\t       NA & 204.8905 & 20791.32 & 7.300212 & 368.5164 & 564.3087 & 10.379783 &  86.99097 & 2.963135 & 0\\\\\n",
       "\t 3.716080 & 129.4229 & 18630.06 & 6.635246 &       NA & 592.8854 & 15.180013 &  56.32908 & 4.500656 & 0\\\\\n",
       "\t 8.099124 & 224.2363 & 19909.54 & 9.275884 &       NA & 418.6062 & 16.868637 &  66.42009 & 3.055934 & 0\\\\\n",
       "\t 8.316766 & 214.3734 & 22018.42 & 8.059332 & 356.8861 & 363.2665 & 18.436524 & 100.34167 & 4.628771 & 0\\\\\n",
       "\t 9.092223 & 181.1015 & 17978.99 & 6.546600 & 310.1357 & 398.4108 & 11.558279 &  31.99799 & 4.075075 & 0\\\\\n",
       "\t 5.584087 & 188.3133 & 28748.69 & 7.544869 & 326.6784 & 280.4679 &  8.399735 &  54.91786 & 2.559708 & 0\\\\\n",
       "\\end{tabular}\n"
      ],
      "text/markdown": [
       "\n",
       "A tibble: 6 × 10\n",
       "\n",
       "| ph &lt;dbl&gt; | Hardness &lt;dbl&gt; | Solids &lt;dbl&gt; | Chloramines &lt;dbl&gt; | Sulfate &lt;dbl&gt; | Conductivity &lt;dbl&gt; | Organic_carbon &lt;dbl&gt; | Trihalomethanes &lt;dbl&gt; | Turbidity &lt;dbl&gt; | Potability &lt;dbl&gt; |\n",
       "|---|---|---|---|---|---|---|---|---|---|\n",
       "|       NA | 204.8905 | 20791.32 | 7.300212 | 368.5164 | 564.3087 | 10.379783 |  86.99097 | 2.963135 | 0 |\n",
       "| 3.716080 | 129.4229 | 18630.06 | 6.635246 |       NA | 592.8854 | 15.180013 |  56.32908 | 4.500656 | 0 |\n",
       "| 8.099124 | 224.2363 | 19909.54 | 9.275884 |       NA | 418.6062 | 16.868637 |  66.42009 | 3.055934 | 0 |\n",
       "| 8.316766 | 214.3734 | 22018.42 | 8.059332 | 356.8861 | 363.2665 | 18.436524 | 100.34167 | 4.628771 | 0 |\n",
       "| 9.092223 | 181.1015 | 17978.99 | 6.546600 | 310.1357 | 398.4108 | 11.558279 |  31.99799 | 4.075075 | 0 |\n",
       "| 5.584087 | 188.3133 | 28748.69 | 7.544869 | 326.6784 | 280.4679 |  8.399735 |  54.91786 | 2.559708 | 0 |\n",
       "\n"
      ],
      "text/plain": [
       "  ph       Hardness Solids   Chloramines Sulfate  Conductivity Organic_carbon\n",
       "1       NA 204.8905 20791.32 7.300212    368.5164 564.3087     10.379783     \n",
       "2 3.716080 129.4229 18630.06 6.635246          NA 592.8854     15.180013     \n",
       "3 8.099124 224.2363 19909.54 9.275884          NA 418.6062     16.868637     \n",
       "4 8.316766 214.3734 22018.42 8.059332    356.8861 363.2665     18.436524     \n",
       "5 9.092223 181.1015 17978.99 6.546600    310.1357 398.4108     11.558279     \n",
       "6 5.584087 188.3133 28748.69 7.544869    326.6784 280.4679      8.399735     \n",
       "  Trihalomethanes Turbidity Potability\n",
       "1  86.99097       2.963135  0         \n",
       "2  56.32908       4.500656  0         \n",
       "3  66.42009       3.055934  0         \n",
       "4 100.34167       4.628771  0         \n",
       "5  31.99799       4.075075  0         \n",
       "6  54.91786       2.559708  0         "
      ]
     },
     "metadata": {},
     "output_type": "display_data"
    }
   ],
   "source": [
    "water_pt <- read_csv(\"data/water_potability.csv\")\n",
    "head(water_pt)"
   ]
  },
  {
   "cell_type": "code",
   "execution_count": 7,
   "id": "5e83094b-1176-49a2-8e8b-13d0b3554e8f",
   "metadata": {},
   "outputs": [
    {
     "data": {
      "text/html": [
       "<table class=\"dataframe\">\n",
       "<caption>A tibble: 6 × 10</caption>\n",
       "<thead>\n",
       "\t<tr><th scope=col>ph</th><th scope=col>Hardness</th><th scope=col>Solids</th><th scope=col>Chloramines</th><th scope=col>Sulfate</th><th scope=col>Conductivity</th><th scope=col>Organic_carbon</th><th scope=col>Trihalomethanes</th><th scope=col>Turbidity</th><th scope=col>Potability</th></tr>\n",
       "\t<tr><th scope=col>&lt;dbl&gt;</th><th scope=col>&lt;dbl&gt;</th><th scope=col>&lt;dbl&gt;</th><th scope=col>&lt;dbl&gt;</th><th scope=col>&lt;dbl&gt;</th><th scope=col>&lt;dbl&gt;</th><th scope=col>&lt;dbl&gt;</th><th scope=col>&lt;dbl&gt;</th><th scope=col>&lt;dbl&gt;</th><th scope=col>&lt;fct&gt;</th></tr>\n",
       "</thead>\n",
       "<tbody>\n",
       "\t<tr><td>      NA</td><td>204.8905</td><td>20791.32</td><td>7.300212</td><td>368.5164</td><td>564.3087</td><td>10.379783</td><td> 86.99097</td><td>2.963135</td><td>0</td></tr>\n",
       "\t<tr><td>3.716080</td><td>129.4229</td><td>18630.06</td><td>6.635246</td><td>      NA</td><td>592.8854</td><td>15.180013</td><td> 56.32908</td><td>4.500656</td><td>0</td></tr>\n",
       "\t<tr><td>8.099124</td><td>224.2363</td><td>19909.54</td><td>9.275884</td><td>      NA</td><td>418.6062</td><td>16.868637</td><td> 66.42009</td><td>3.055934</td><td>0</td></tr>\n",
       "\t<tr><td>8.316766</td><td>214.3734</td><td>22018.42</td><td>8.059332</td><td>356.8861</td><td>363.2665</td><td>18.436524</td><td>100.34167</td><td>4.628771</td><td>0</td></tr>\n",
       "\t<tr><td>9.092223</td><td>181.1015</td><td>17978.99</td><td>6.546600</td><td>310.1357</td><td>398.4108</td><td>11.558279</td><td> 31.99799</td><td>4.075075</td><td>0</td></tr>\n",
       "\t<tr><td>5.584087</td><td>188.3133</td><td>28748.69</td><td>7.544869</td><td>326.6784</td><td>280.4679</td><td> 8.399735</td><td> 54.91786</td><td>2.559708</td><td>0</td></tr>\n",
       "</tbody>\n",
       "</table>\n"
      ],
      "text/latex": [
       "A tibble: 6 × 10\n",
       "\\begin{tabular}{llllllllll}\n",
       " ph & Hardness & Solids & Chloramines & Sulfate & Conductivity & Organic\\_carbon & Trihalomethanes & Turbidity & Potability\\\\\n",
       " <dbl> & <dbl> & <dbl> & <dbl> & <dbl> & <dbl> & <dbl> & <dbl> & <dbl> & <fct>\\\\\n",
       "\\hline\n",
       "\t       NA & 204.8905 & 20791.32 & 7.300212 & 368.5164 & 564.3087 & 10.379783 &  86.99097 & 2.963135 & 0\\\\\n",
       "\t 3.716080 & 129.4229 & 18630.06 & 6.635246 &       NA & 592.8854 & 15.180013 &  56.32908 & 4.500656 & 0\\\\\n",
       "\t 8.099124 & 224.2363 & 19909.54 & 9.275884 &       NA & 418.6062 & 16.868637 &  66.42009 & 3.055934 & 0\\\\\n",
       "\t 8.316766 & 214.3734 & 22018.42 & 8.059332 & 356.8861 & 363.2665 & 18.436524 & 100.34167 & 4.628771 & 0\\\\\n",
       "\t 9.092223 & 181.1015 & 17978.99 & 6.546600 & 310.1357 & 398.4108 & 11.558279 &  31.99799 & 4.075075 & 0\\\\\n",
       "\t 5.584087 & 188.3133 & 28748.69 & 7.544869 & 326.6784 & 280.4679 &  8.399735 &  54.91786 & 2.559708 & 0\\\\\n",
       "\\end{tabular}\n"
      ],
      "text/markdown": [
       "\n",
       "A tibble: 6 × 10\n",
       "\n",
       "| ph &lt;dbl&gt; | Hardness &lt;dbl&gt; | Solids &lt;dbl&gt; | Chloramines &lt;dbl&gt; | Sulfate &lt;dbl&gt; | Conductivity &lt;dbl&gt; | Organic_carbon &lt;dbl&gt; | Trihalomethanes &lt;dbl&gt; | Turbidity &lt;dbl&gt; | Potability &lt;fct&gt; |\n",
       "|---|---|---|---|---|---|---|---|---|---|\n",
       "|       NA | 204.8905 | 20791.32 | 7.300212 | 368.5164 | 564.3087 | 10.379783 |  86.99097 | 2.963135 | 0 |\n",
       "| 3.716080 | 129.4229 | 18630.06 | 6.635246 |       NA | 592.8854 | 15.180013 |  56.32908 | 4.500656 | 0 |\n",
       "| 8.099124 | 224.2363 | 19909.54 | 9.275884 |       NA | 418.6062 | 16.868637 |  66.42009 | 3.055934 | 0 |\n",
       "| 8.316766 | 214.3734 | 22018.42 | 8.059332 | 356.8861 | 363.2665 | 18.436524 | 100.34167 | 4.628771 | 0 |\n",
       "| 9.092223 | 181.1015 | 17978.99 | 6.546600 | 310.1357 | 398.4108 | 11.558279 |  31.99799 | 4.075075 | 0 |\n",
       "| 5.584087 | 188.3133 | 28748.69 | 7.544869 | 326.6784 | 280.4679 |  8.399735 |  54.91786 | 2.559708 | 0 |\n",
       "\n"
      ],
      "text/plain": [
       "  ph       Hardness Solids   Chloramines Sulfate  Conductivity Organic_carbon\n",
       "1       NA 204.8905 20791.32 7.300212    368.5164 564.3087     10.379783     \n",
       "2 3.716080 129.4229 18630.06 6.635246          NA 592.8854     15.180013     \n",
       "3 8.099124 224.2363 19909.54 9.275884          NA 418.6062     16.868637     \n",
       "4 8.316766 214.3734 22018.42 8.059332    356.8861 363.2665     18.436524     \n",
       "5 9.092223 181.1015 17978.99 6.546600    310.1357 398.4108     11.558279     \n",
       "6 5.584087 188.3133 28748.69 7.544869    326.6784 280.4679      8.399735     \n",
       "  Trihalomethanes Turbidity Potability\n",
       "1  86.99097       2.963135  0         \n",
       "2  56.32908       4.500656  0         \n",
       "3  66.42009       3.055934  0         \n",
       "4 100.34167       4.628771  0         \n",
       "5  31.99799       4.075075  0         \n",
       "6  54.91786       2.559708  0         "
      ]
     },
     "metadata": {},
     "output_type": "display_data"
    }
   ],
   "source": [
    "water_pt <- water_pt |>\n",
    "select(-na.rm) |>\n",
    "mutate(Potability = as_factor(Potability))\n",
    "head(water_pt)"
   ]
  }
 ],
 "metadata": {
  "kernelspec": {
   "display_name": "R",
   "language": "R",
   "name": "ir"
  },
  "language_info": {
   "codemirror_mode": "r",
   "file_extension": ".r",
   "mimetype": "text/x-r-source",
   "name": "R",
   "pygments_lexer": "r",
   "version": "4.1.3"
  }
 },
 "nbformat": 4,
 "nbformat_minor": 5
}
