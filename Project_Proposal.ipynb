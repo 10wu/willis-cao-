{
 "cells": [
  {
   "cell_type": "code",
   "execution_count": null,
   "id": "8cbd1972-bdfd-4fad-b427-5f44b17549e4",
   "metadata": {},
   "outputs": [],
   "source": [
    "Project Proposal"
   ]
  },
  {
   "cell_type": "markdown",
   "id": "092d632e-6628-4335-8c19-fbdb41d800f7",
   "metadata": {},
   "source": [
    "Group 93\n"
   ]
  },
  {
   "cell_type": "raw",
   "id": "319f2e71-c82a-49ec-9a89-fa236e1ee3ed",
   "metadata": {},
   "source": [
    "Trying it out"
   ]
  }
 ],
 "metadata": {
  "kernelspec": {
   "display_name": "R",
   "language": "R",
   "name": "ir"
  },
  "language_info": {
   "codemirror_mode": "r",
   "file_extension": ".r",
   "mimetype": "text/x-r-source",
   "name": "R",
   "pygments_lexer": "r",
   "version": "4.1.3"
  }
 },
 "nbformat": 4,
 "nbformat_minor": 5
}
