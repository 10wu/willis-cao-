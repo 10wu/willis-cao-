{
 "cells": [
  {
   "cell_type": "markdown",
   "id": "7a2e8b5f-3486-427b-941d-29f9be3c97b6",
   "metadata": {},
   "source": [
    "# Project Proposal (Group 93)\n",
    "## Water Potability"
   ]
  },
  {
   "cell_type": "markdown",
   "id": "403faf29-8756-4419-b8f1-098f61233865",
   "metadata": {},
   "source": [
    "### Introduction\n",
    "* Provide some relevant background information on the topic so that someone unfamiliar with it will be prepared to understand the rest of your proposal.\n",
    "* Clearly state the question you will try to answer with your project.\n",
    "* Identify and describe the dataset that will be used to answer the question.\n",
    "\n",
    "Potable water (water that is safe to drink) is a basic requirement for human life. Lack of access to potable water is an issue that continues to affect many regions globally. The United Nations Sustainable Development Goal 6 is accordingly: \"Ensure availability and sustainable management of water and sanitation for all”. According to the most recent report from the World Health Organization (WHO) (https://www.who.int/publications/i/item/9789240060807), in 2020 an estimated 26% of the global population (1.97 billion individuals) did not had access to safely managed drinking water services. Researching sufficiently fast, reliable, and cost-effective ways of evaluating the safety of drinking water is crucial to addressing this issue. In 2016, UNICEF called for the production of rapid-test kits for detecting the bacterium *Escherichia coli* (usually present in fecally contaminated water) (https://www.unicef.org/innovation/rapid-water-quality-testing). Apart from microbes, various other factors affect water potability.\n",
    "\n",
    "In this project, we will utilize a synthetically generated dataset (https://www.kaggle.com/datasets/adityakadiwal/water-potability) containing over 3000 observations, each representing a sample of water. Each observation contains nine variables that affect water potability (pH, hardness, total dissolved solids, chloramines, sulfate, conductivity, organic carbon, trihalomethanes, and turbidity) as well as a score indicating whether or not the water is potable. Using this dataset, we aim to demonstrate how a classification model can be trained to accurately evaluate whether or not an unknown sample of water is potable based on measurable variables."
   ]
  },
  {
   "cell_type": "markdown",
   "id": "f74bfe15-e74f-4e67-8981-8eef0a68cddd",
   "metadata": {},
   "source": [
    "### Content\n",
    "\n",
    "\n",
    "- **pH value**: PH is an important parameter in evaluating the acid–base balance of water.WHO has recommended maximum permissible limit of pH from 6.5 to 8.5.\n",
    "\n",
    "- **Hardness**: Hardness is defined as the capacity of water to precipitate soap caused by Calcium and Magnesium.\n",
    "\n",
    "- **Solids (Total dissolved solids - TDS)**: Water has the ability to dissolve a wide range of inorganic and some organic minerals or salts such as potassium, calcium, sodium, bicarbonates, chlorides, magnesium, sulfates etc.\n",
    "\n",
    "- **Chloramines**: Chlorine and chloramine are the major disinfectants used in public water systems.Chlorine levels up to 4 milligrams per liter (mg/L or 4 parts per million (ppm)) are considered safe in drinking water.\n",
    "\n",
    "- **Sulfate**: Sulfates are naturally occurring substances that are found in minerals, soil, and rocks.It ranges from 3 to 30 mg/L in most freshwater supplies, although much higher concentrations (1000 mg/L) are found in some geographic locations.\n",
    "\n",
    "- **Conductivity**: Pure water is not a good conductor of electric current rather s a good insulator. Increase in ions concentration enhances the electrical conductivity of water.According to WHO standards, EC value should not exceeded 400 μS/cm.\n",
    "\n",
    "- **Organic_carbon**: Total Organic Carbon (TOC) in source waters comes from decaying natural organic matter (NOM) as well as synthetic sources.According to US EPA < 2 mg/L as TOC in treated / drinking water, and < 4 mg/Lit in source water which is use for treatment.\n",
    "\n",
    "- **Trihalomethanes**: THMs are chemicals which may be found in water treated with chlorine.THM levels up to 80 ppm is considered safe in drinking water.\n",
    "\n",
    "- **Turbidity**: The turbidity of water depends on the quantity of solid matter present in the suspended state.The mean turbidity value obtained for Wondo Genet Campus (0.98 NTU) is lower than the WHO recommended value of 5.00 NTU.\n",
    "\n",
    "- **Potability**: Indicates if water is safe for human consumption where 1 means Potable and 0 means Not potable.\n",
    "\n"
   ]
  },
  {
   "cell_type": "markdown",
   "id": "d54459a6-2a69-450c-8a38-e78bc89a43ff",
   "metadata": {},
   "source": [
    "### Preliminary exploratory data analysis\n",
    "* Demonstrate that the dataset can be read from the web into R.\n",
    "* Clean and wrangle your data into a tidy format.\n",
    "* Using only training data, summarize the data in at least one table (this is exploratory data analysis). An example of a useful table could be one that reports the number of observations in each class, the means of the predictor variables you plan to use in your analysis and how many rows have missing data. \n",
    "* Using only training data, visualize the data with at least one plot relevant to the analysis you plan to do (this is exploratory data analysis). An example of a useful visualization could be one that compares the distributions of each of the predictor variables you plan to use in your analysis.\n",
    "\n",
    "[WRITE HERE AND CODE BELOW]"
   ]
  },
  {
   "cell_type": "code",
   "execution_count": 16,
   "id": "31a1554f-b749-488e-b5ca-3ed5fa64e2e4",
   "metadata": {},
   "outputs": [
    {
     "name": "stderr",
     "output_type": "stream",
     "text": [
      "\u001b[1mRows: \u001b[22m\u001b[34m3276\u001b[39m \u001b[1mColumns: \u001b[22m\u001b[34m10\u001b[39m\n",
      "\u001b[36m──\u001b[39m \u001b[1mColumn specification\u001b[22m \u001b[36m────────────────────────────────────────────────────────\u001b[39m\n",
      "\u001b[1mDelimiter:\u001b[22m \",\"\n",
      "\u001b[32mdbl\u001b[39m (10): ph, Hardness, Solids, Chloramines, Sulfate, Conductivity, Organic_...\n",
      "\n",
      "\u001b[36mℹ\u001b[39m Use `spec()` to retrieve the full column specification for this data.\n",
      "\u001b[36mℹ\u001b[39m Specify the column types or set `show_col_types = FALSE` to quiet this message.\n"
     ]
    },
    {
     "data": {
      "text/html": [
       "<table class=\"dataframe\">\n",
       "<caption>A tibble: 6 × 10</caption>\n",
       "<thead>\n",
       "\t<tr><th scope=col>ph</th><th scope=col>Hardness</th><th scope=col>Solids</th><th scope=col>Chloramines</th><th scope=col>Sulfate</th><th scope=col>Conductivity</th><th scope=col>Organic_carbon</th><th scope=col>Trihalomethanes</th><th scope=col>Turbidity</th><th scope=col>Potability</th></tr>\n",
       "\t<tr><th scope=col>&lt;dbl&gt;</th><th scope=col>&lt;dbl&gt;</th><th scope=col>&lt;dbl&gt;</th><th scope=col>&lt;dbl&gt;</th><th scope=col>&lt;dbl&gt;</th><th scope=col>&lt;dbl&gt;</th><th scope=col>&lt;dbl&gt;</th><th scope=col>&lt;dbl&gt;</th><th scope=col>&lt;dbl&gt;</th><th scope=col>&lt;dbl&gt;</th></tr>\n",
       "</thead>\n",
       "<tbody>\n",
       "\t<tr><td>      NA</td><td>204.8905</td><td>20791.32</td><td>7.300212</td><td>368.5164</td><td>564.3087</td><td>10.379783</td><td> 86.99097</td><td>2.963135</td><td>0</td></tr>\n",
       "\t<tr><td>3.716080</td><td>129.4229</td><td>18630.06</td><td>6.635246</td><td>      NA</td><td>592.8854</td><td>15.180013</td><td> 56.32908</td><td>4.500656</td><td>0</td></tr>\n",
       "\t<tr><td>8.099124</td><td>224.2363</td><td>19909.54</td><td>9.275884</td><td>      NA</td><td>418.6062</td><td>16.868637</td><td> 66.42009</td><td>3.055934</td><td>0</td></tr>\n",
       "\t<tr><td>8.316766</td><td>214.3734</td><td>22018.42</td><td>8.059332</td><td>356.8861</td><td>363.2665</td><td>18.436524</td><td>100.34167</td><td>4.628771</td><td>0</td></tr>\n",
       "\t<tr><td>9.092223</td><td>181.1015</td><td>17978.99</td><td>6.546600</td><td>310.1357</td><td>398.4108</td><td>11.558279</td><td> 31.99799</td><td>4.075075</td><td>0</td></tr>\n",
       "\t<tr><td>5.584087</td><td>188.3133</td><td>28748.69</td><td>7.544869</td><td>326.6784</td><td>280.4679</td><td> 8.399735</td><td> 54.91786</td><td>2.559708</td><td>0</td></tr>\n",
       "</tbody>\n",
       "</table>\n"
      ],
      "text/latex": [
       "A tibble: 6 × 10\n",
       "\\begin{tabular}{llllllllll}\n",
       " ph & Hardness & Solids & Chloramines & Sulfate & Conductivity & Organic\\_carbon & Trihalomethanes & Turbidity & Potability\\\\\n",
       " <dbl> & <dbl> & <dbl> & <dbl> & <dbl> & <dbl> & <dbl> & <dbl> & <dbl> & <dbl>\\\\\n",
       "\\hline\n",
       "\t       NA & 204.8905 & 20791.32 & 7.300212 & 368.5164 & 564.3087 & 10.379783 &  86.99097 & 2.963135 & 0\\\\\n",
       "\t 3.716080 & 129.4229 & 18630.06 & 6.635246 &       NA & 592.8854 & 15.180013 &  56.32908 & 4.500656 & 0\\\\\n",
       "\t 8.099124 & 224.2363 & 19909.54 & 9.275884 &       NA & 418.6062 & 16.868637 &  66.42009 & 3.055934 & 0\\\\\n",
       "\t 8.316766 & 214.3734 & 22018.42 & 8.059332 & 356.8861 & 363.2665 & 18.436524 & 100.34167 & 4.628771 & 0\\\\\n",
       "\t 9.092223 & 181.1015 & 17978.99 & 6.546600 & 310.1357 & 398.4108 & 11.558279 &  31.99799 & 4.075075 & 0\\\\\n",
       "\t 5.584087 & 188.3133 & 28748.69 & 7.544869 & 326.6784 & 280.4679 &  8.399735 &  54.91786 & 2.559708 & 0\\\\\n",
       "\\end{tabular}\n"
      ],
      "text/markdown": [
       "\n",
       "A tibble: 6 × 10\n",
       "\n",
       "| ph &lt;dbl&gt; | Hardness &lt;dbl&gt; | Solids &lt;dbl&gt; | Chloramines &lt;dbl&gt; | Sulfate &lt;dbl&gt; | Conductivity &lt;dbl&gt; | Organic_carbon &lt;dbl&gt; | Trihalomethanes &lt;dbl&gt; | Turbidity &lt;dbl&gt; | Potability &lt;dbl&gt; |\n",
       "|---|---|---|---|---|---|---|---|---|---|\n",
       "|       NA | 204.8905 | 20791.32 | 7.300212 | 368.5164 | 564.3087 | 10.379783 |  86.99097 | 2.963135 | 0 |\n",
       "| 3.716080 | 129.4229 | 18630.06 | 6.635246 |       NA | 592.8854 | 15.180013 |  56.32908 | 4.500656 | 0 |\n",
       "| 8.099124 | 224.2363 | 19909.54 | 9.275884 |       NA | 418.6062 | 16.868637 |  66.42009 | 3.055934 | 0 |\n",
       "| 8.316766 | 214.3734 | 22018.42 | 8.059332 | 356.8861 | 363.2665 | 18.436524 | 100.34167 | 4.628771 | 0 |\n",
       "| 9.092223 | 181.1015 | 17978.99 | 6.546600 | 310.1357 | 398.4108 | 11.558279 |  31.99799 | 4.075075 | 0 |\n",
       "| 5.584087 | 188.3133 | 28748.69 | 7.544869 | 326.6784 | 280.4679 |  8.399735 |  54.91786 | 2.559708 | 0 |\n",
       "\n"
      ],
      "text/plain": [
       "  ph       Hardness Solids   Chloramines Sulfate  Conductivity Organic_carbon\n",
       "1       NA 204.8905 20791.32 7.300212    368.5164 564.3087     10.379783     \n",
       "2 3.716080 129.4229 18630.06 6.635246          NA 592.8854     15.180013     \n",
       "3 8.099124 224.2363 19909.54 9.275884          NA 418.6062     16.868637     \n",
       "4 8.316766 214.3734 22018.42 8.059332    356.8861 363.2665     18.436524     \n",
       "5 9.092223 181.1015 17978.99 6.546600    310.1357 398.4108     11.558279     \n",
       "6 5.584087 188.3133 28748.69 7.544869    326.6784 280.4679      8.399735     \n",
       "  Trihalomethanes Turbidity Potability\n",
       "1  86.99097       2.963135  0         \n",
       "2  56.32908       4.500656  0         \n",
       "3  66.42009       3.055934  0         \n",
       "4 100.34167       4.628771  0         \n",
       "5  31.99799       4.075075  0         \n",
       "6  54.91786       2.559708  0         "
      ]
     },
     "metadata": {},
     "output_type": "display_data"
    }
   ],
   "source": [
    "library(repr)\n",
    "library(tidyverse)\n",
    "library(tidymodels)\n",
    "\n",
    "water_potability_raw <- read_csv(\"data/water_potability.csv\") #Unedited \"raw\" dataset\n",
    "\n",
    "head(water_potability_raw)"
   ]
  },
  {
   "cell_type": "code",
   "execution_count": 17,
   "id": "72730766-bc5b-442c-968c-00beb428e815",
   "metadata": {},
   "outputs": [
    {
     "data": {
      "text/html": [
       "<table class=\"dataframe\">\n",
       "<caption>A tibble: 6 × 10</caption>\n",
       "<thead>\n",
       "\t<tr><th scope=col>ph</th><th scope=col>Hardness</th><th scope=col>Solids</th><th scope=col>Chloramines</th><th scope=col>Sulfate</th><th scope=col>Conductivity</th><th scope=col>Organic_carbon</th><th scope=col>Trihalomethanes</th><th scope=col>Turbidity</th><th scope=col>Potability</th></tr>\n",
       "\t<tr><th scope=col>&lt;dbl&gt;</th><th scope=col>&lt;dbl&gt;</th><th scope=col>&lt;dbl&gt;</th><th scope=col>&lt;dbl&gt;</th><th scope=col>&lt;dbl&gt;</th><th scope=col>&lt;dbl&gt;</th><th scope=col>&lt;dbl&gt;</th><th scope=col>&lt;dbl&gt;</th><th scope=col>&lt;dbl&gt;</th><th scope=col>&lt;fct&gt;</th></tr>\n",
       "</thead>\n",
       "<tbody>\n",
       "\t<tr><td>      NA</td><td>204.8905</td><td>20791.32</td><td>7.300212</td><td>368.5164</td><td>564.3087</td><td>10.379783</td><td> 86.99097</td><td>2.963135</td><td>0</td></tr>\n",
       "\t<tr><td>3.716080</td><td>129.4229</td><td>18630.06</td><td>6.635246</td><td>      NA</td><td>592.8854</td><td>15.180013</td><td> 56.32908</td><td>4.500656</td><td>0</td></tr>\n",
       "\t<tr><td>8.099124</td><td>224.2363</td><td>19909.54</td><td>9.275884</td><td>      NA</td><td>418.6062</td><td>16.868637</td><td> 66.42009</td><td>3.055934</td><td>0</td></tr>\n",
       "\t<tr><td>8.316766</td><td>214.3734</td><td>22018.42</td><td>8.059332</td><td>356.8861</td><td>363.2665</td><td>18.436524</td><td>100.34167</td><td>4.628771</td><td>0</td></tr>\n",
       "\t<tr><td>9.092223</td><td>181.1015</td><td>17978.99</td><td>6.546600</td><td>310.1357</td><td>398.4108</td><td>11.558279</td><td> 31.99799</td><td>4.075075</td><td>0</td></tr>\n",
       "\t<tr><td>5.584087</td><td>188.3133</td><td>28748.69</td><td>7.544869</td><td>326.6784</td><td>280.4679</td><td> 8.399735</td><td> 54.91786</td><td>2.559708</td><td>0</td></tr>\n",
       "</tbody>\n",
       "</table>\n"
      ],
      "text/latex": [
       "A tibble: 6 × 10\n",
       "\\begin{tabular}{llllllllll}\n",
       " ph & Hardness & Solids & Chloramines & Sulfate & Conductivity & Organic\\_carbon & Trihalomethanes & Turbidity & Potability\\\\\n",
       " <dbl> & <dbl> & <dbl> & <dbl> & <dbl> & <dbl> & <dbl> & <dbl> & <dbl> & <fct>\\\\\n",
       "\\hline\n",
       "\t       NA & 204.8905 & 20791.32 & 7.300212 & 368.5164 & 564.3087 & 10.379783 &  86.99097 & 2.963135 & 0\\\\\n",
       "\t 3.716080 & 129.4229 & 18630.06 & 6.635246 &       NA & 592.8854 & 15.180013 &  56.32908 & 4.500656 & 0\\\\\n",
       "\t 8.099124 & 224.2363 & 19909.54 & 9.275884 &       NA & 418.6062 & 16.868637 &  66.42009 & 3.055934 & 0\\\\\n",
       "\t 8.316766 & 214.3734 & 22018.42 & 8.059332 & 356.8861 & 363.2665 & 18.436524 & 100.34167 & 4.628771 & 0\\\\\n",
       "\t 9.092223 & 181.1015 & 17978.99 & 6.546600 & 310.1357 & 398.4108 & 11.558279 &  31.99799 & 4.075075 & 0\\\\\n",
       "\t 5.584087 & 188.3133 & 28748.69 & 7.544869 & 326.6784 & 280.4679 &  8.399735 &  54.91786 & 2.559708 & 0\\\\\n",
       "\\end{tabular}\n"
      ],
      "text/markdown": [
       "\n",
       "A tibble: 6 × 10\n",
       "\n",
       "| ph &lt;dbl&gt; | Hardness &lt;dbl&gt; | Solids &lt;dbl&gt; | Chloramines &lt;dbl&gt; | Sulfate &lt;dbl&gt; | Conductivity &lt;dbl&gt; | Organic_carbon &lt;dbl&gt; | Trihalomethanes &lt;dbl&gt; | Turbidity &lt;dbl&gt; | Potability &lt;fct&gt; |\n",
       "|---|---|---|---|---|---|---|---|---|---|\n",
       "|       NA | 204.8905 | 20791.32 | 7.300212 | 368.5164 | 564.3087 | 10.379783 |  86.99097 | 2.963135 | 0 |\n",
       "| 3.716080 | 129.4229 | 18630.06 | 6.635246 |       NA | 592.8854 | 15.180013 |  56.32908 | 4.500656 | 0 |\n",
       "| 8.099124 | 224.2363 | 19909.54 | 9.275884 |       NA | 418.6062 | 16.868637 |  66.42009 | 3.055934 | 0 |\n",
       "| 8.316766 | 214.3734 | 22018.42 | 8.059332 | 356.8861 | 363.2665 | 18.436524 | 100.34167 | 4.628771 | 0 |\n",
       "| 9.092223 | 181.1015 | 17978.99 | 6.546600 | 310.1357 | 398.4108 | 11.558279 |  31.99799 | 4.075075 | 0 |\n",
       "| 5.584087 | 188.3133 | 28748.69 | 7.544869 | 326.6784 | 280.4679 |  8.399735 |  54.91786 | 2.559708 | 0 |\n",
       "\n"
      ],
      "text/plain": [
       "  ph       Hardness Solids   Chloramines Sulfate  Conductivity Organic_carbon\n",
       "1       NA 204.8905 20791.32 7.300212    368.5164 564.3087     10.379783     \n",
       "2 3.716080 129.4229 18630.06 6.635246          NA 592.8854     15.180013     \n",
       "3 8.099124 224.2363 19909.54 9.275884          NA 418.6062     16.868637     \n",
       "4 8.316766 214.3734 22018.42 8.059332    356.8861 363.2665     18.436524     \n",
       "5 9.092223 181.1015 17978.99 6.546600    310.1357 398.4108     11.558279     \n",
       "6 5.584087 188.3133 28748.69 7.544869    326.6784 280.4679      8.399735     \n",
       "  Trihalomethanes Turbidity Potability\n",
       "1  86.99097       2.963135  0         \n",
       "2  56.32908       4.500656  0         \n",
       "3  66.42009       3.055934  0         \n",
       "4 100.34167       4.628771  0         \n",
       "5  31.99799       4.075075  0         \n",
       "6  54.91786       2.559708  0         "
      ]
     },
     "metadata": {},
     "output_type": "display_data"
    }
   ],
   "source": [
    "water_potability_raw <- water_potability_raw |>\n",
    "mutate(Potability = as_factor(Potability))\n",
    "head(water_potability_raw)"
   ]
  },
  {
   "cell_type": "code",
   "execution_count": 42,
   "id": "6c4c6239-09ba-47fd-8117-732e0ebca001",
   "metadata": {},
   "outputs": [
    {
     "data": {
      "text/html": [
       "<table class=\"dataframe\">\n",
       "<caption>A tibble: 18 × 3</caption>\n",
       "<thead>\n",
       "\t<tr><th scope=col>Potability</th><th scope=col>Predictor</th><th scope=col>value</th></tr>\n",
       "\t<tr><th scope=col>&lt;fct&gt;</th><th scope=col>&lt;chr&gt;</th><th scope=col>&lt;dbl&gt;</th></tr>\n",
       "</thead>\n",
       "<tbody>\n",
       "\t<tr><td>0</td><td>ph             </td><td>    7.122532</td></tr>\n",
       "\t<tr><td>0</td><td>Hardness       </td><td>  196.103212</td></tr>\n",
       "\t<tr><td>0</td><td>Solids         </td><td>21806.781202</td></tr>\n",
       "\t<tr><td>0</td><td>Chloramines    </td><td>    7.085686</td></tr>\n",
       "\t<tr><td>0</td><td>Sulfate        </td><td>  334.794949</td></tr>\n",
       "\t<tr><td>0</td><td>Conductivity   </td><td>  425.907866</td></tr>\n",
       "\t<tr><td>0</td><td>Organic_carbon </td><td>   14.291200</td></tr>\n",
       "\t<tr><td>0</td><td>Trihalomethanes</td><td>   66.083966</td></tr>\n",
       "\t<tr><td>0</td><td>Turbidity      </td><td>    3.982035</td></tr>\n",
       "\t<tr><td>1</td><td>ph             </td><td>    7.080833</td></tr>\n",
       "\t<tr><td>1</td><td>Hardness       </td><td>  196.057504</td></tr>\n",
       "\t<tr><td>1</td><td>Solids         </td><td>22321.882199</td></tr>\n",
       "\t<tr><td>1</td><td>Chloramines    </td><td>    7.141295</td></tr>\n",
       "\t<tr><td>1</td><td>Sulfate        </td><td>  333.322478</td></tr>\n",
       "\t<tr><td>1</td><td>Conductivity   </td><td>  425.129731</td></tr>\n",
       "\t<tr><td>1</td><td>Organic_carbon </td><td>   14.110479</td></tr>\n",
       "\t<tr><td>1</td><td>Trihalomethanes</td><td>   66.588173</td></tr>\n",
       "\t<tr><td>1</td><td>Turbidity      </td><td>    3.951831</td></tr>\n",
       "</tbody>\n",
       "</table>\n"
      ],
      "text/latex": [
       "A tibble: 18 × 3\n",
       "\\begin{tabular}{lll}\n",
       " Potability & Predictor & value\\\\\n",
       " <fct> & <chr> & <dbl>\\\\\n",
       "\\hline\n",
       "\t 0 & ph              &     7.122532\\\\\n",
       "\t 0 & Hardness        &   196.103212\\\\\n",
       "\t 0 & Solids          & 21806.781202\\\\\n",
       "\t 0 & Chloramines     &     7.085686\\\\\n",
       "\t 0 & Sulfate         &   334.794949\\\\\n",
       "\t 0 & Conductivity    &   425.907866\\\\\n",
       "\t 0 & Organic\\_carbon  &    14.291200\\\\\n",
       "\t 0 & Trihalomethanes &    66.083966\\\\\n",
       "\t 0 & Turbidity       &     3.982035\\\\\n",
       "\t 1 & ph              &     7.080833\\\\\n",
       "\t 1 & Hardness        &   196.057504\\\\\n",
       "\t 1 & Solids          & 22321.882199\\\\\n",
       "\t 1 & Chloramines     &     7.141295\\\\\n",
       "\t 1 & Sulfate         &   333.322478\\\\\n",
       "\t 1 & Conductivity    &   425.129731\\\\\n",
       "\t 1 & Organic\\_carbon  &    14.110479\\\\\n",
       "\t 1 & Trihalomethanes &    66.588173\\\\\n",
       "\t 1 & Turbidity       &     3.951831\\\\\n",
       "\\end{tabular}\n"
      ],
      "text/markdown": [
       "\n",
       "A tibble: 18 × 3\n",
       "\n",
       "| Potability &lt;fct&gt; | Predictor &lt;chr&gt; | value &lt;dbl&gt; |\n",
       "|---|---|---|\n",
       "| 0 | ph              |     7.122532 |\n",
       "| 0 | Hardness        |   196.103212 |\n",
       "| 0 | Solids          | 21806.781202 |\n",
       "| 0 | Chloramines     |     7.085686 |\n",
       "| 0 | Sulfate         |   334.794949 |\n",
       "| 0 | Conductivity    |   425.907866 |\n",
       "| 0 | Organic_carbon  |    14.291200 |\n",
       "| 0 | Trihalomethanes |    66.083966 |\n",
       "| 0 | Turbidity       |     3.982035 |\n",
       "| 1 | ph              |     7.080833 |\n",
       "| 1 | Hardness        |   196.057504 |\n",
       "| 1 | Solids          | 22321.882199 |\n",
       "| 1 | Chloramines     |     7.141295 |\n",
       "| 1 | Sulfate         |   333.322478 |\n",
       "| 1 | Conductivity    |   425.129731 |\n",
       "| 1 | Organic_carbon  |    14.110479 |\n",
       "| 1 | Trihalomethanes |    66.588173 |\n",
       "| 1 | Turbidity       |     3.951831 |\n",
       "\n"
      ],
      "text/plain": [
       "   Potability Predictor       value       \n",
       "1  0          ph                  7.122532\n",
       "2  0          Hardness          196.103212\n",
       "3  0          Solids          21806.781202\n",
       "4  0          Chloramines         7.085686\n",
       "5  0          Sulfate           334.794949\n",
       "6  0          Conductivity      425.907866\n",
       "7  0          Organic_carbon     14.291200\n",
       "8  0          Trihalomethanes    66.083966\n",
       "9  0          Turbidity           3.982035\n",
       "10 1          ph                  7.080833\n",
       "11 1          Hardness          196.057504\n",
       "12 1          Solids          22321.882199\n",
       "13 1          Chloramines         7.141295\n",
       "14 1          Sulfate           333.322478\n",
       "15 1          Conductivity      425.129731\n",
       "16 1          Organic_carbon     14.110479\n",
       "17 1          Trihalomethanes    66.588173\n",
       "18 1          Turbidity           3.951831"
      ]
     },
     "metadata": {},
     "output_type": "display_data"
    },
    {
     "data": {
      "image/png": "[encoded data removed]",
      "text/plain": [
       "plot without title"
      ]
     },
     "metadata": {
      "image/png": {
       "height": 420,
       "width": 420
      }
     },
     "output_type": "display_data"
    }
   ],
   "source": [
    "water_split <- water_potability_raw |>\n",
    "    initial_split(prop = 0.75, strata = Potability)\n",
    "\n",
    "water_train <- training(water_split)\n",
    "\n",
    "summary_table <- water_train |>\n",
    "    group_by(Potability) |>\n",
    "    summarize(across(ph:Turbidity, mean, na.rm=TRUE))\n",
    "    \n",
    "\n",
    "summary_rowcount <- water_train |>\n",
    "    group_by(Potability) |>\n",
    "    summarize(n = n())\n",
    "\n",
    "summary_table_with_n <- summary_table |>\n",
    "    merge(summary_rowcount)\n",
    "\n",
    "summary_table_longer <- summary_table |>\n",
    "    pivot_longer(c(ph, Hardness, Solids, Chloramines, Sulfate, Conductivity, Organic_carbon, Trihalomethanes, Turbidity), names_to = \"Predictor\")\n",
    "\n",
    "summary_table_longer\n",
    "\n",
    "bar_plot <- summary_table_longer |>\n",
    "    ggplot(aes(x = Predictor, y = value, fill = Potability)) + \n",
    "    geom_bar(position = 'dodge', stat = \"Identity\") + \n",
    "    xlab(\"Sex\") +\n",
    "    ylab(\"Proportion of smokers vs. non-smokers\") +\n",
    "    labs(fill = \"Does the person smoke?\") +\n",
    "    ggtitle(\"Proportion of smokers vs. non-smokers by sex\") +\n",
    "    theme(text = element_text(size = 15))\n",
    "\n",
    "bar_plot"
   ]
  },
  {
   "cell_type": "code",
   "execution_count": null,
   "id": "2d83d0d0-c138-499d-ae22-f657266ccb47",
   "metadata": {},
   "outputs": [],
   "source": []
  },
  {
   "cell_type": "markdown",
   "id": "c68b7af1-ae4c-4bb3-914e-109be87dc15e",
   "metadata": {},
   "source": [
    "### Methods\n",
    "* Explain how you will conduct either your data analysis and which variables/columns you will use. Note - you do not need to use all variables/columns that exist in the raw data set. In fact, that's often not a good idea. For each variable think: is this a useful variable for prediction?\n",
    "* Describe at least one way that you will visualize the results.\n",
    "\n",
    "[WRITE HERE]"
   ]
  },
  {
   "cell_type": "markdown",
   "id": "2fc0a17f-24ac-4d13-b92f-ac869df73e5f",
   "metadata": {
    "jp-MarkdownHeadingCollapsed": true,
    "tags": []
   },
   "source": [
    "### Expected outcomes and significance\n",
    "- What do you expect to find? \n",
    "- What impact could such findings have?\n",
    "- What future questions could this lead to?\n",
    "\n",
    "[WRITE HERE]\n",
    "- We expect to find whether the water is safe to drink or not based on several factors such as pH, hardness, conductivity etc."
   ]
  },
  {
   "cell_type": "code",
   "execution_count": null,
   "id": "6e4106cc-4e59-45ee-9943-966c742e56bb",
   "metadata": {},
   "outputs": [],
   "source": []
  }
 ],
 "metadata": {
  "kernelspec": {
   "display_name": "R",
   "language": "R",
   "name": "ir"
  },
  "language_info": {
   "codemirror_mode": "r",
   "file_extension": ".r",
   "mimetype": "text/x-r-source",
   "name": "R",
   "pygments_lexer": "r",
   "version": "4.1.3"
  }
 },
 "nbformat": 4,
 "nbformat_minor": 5
}
