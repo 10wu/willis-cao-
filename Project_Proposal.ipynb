{
 "cells": [
  {
   "cell_type": "markdown",
   "id": "7a2e8b5f-3486-427b-941d-29f9be3c97b6",
   "metadata": {},
   "source": [
    "# Project Proposal (Group 93)\n",
    "## Water Potability"
   ]
  },
  {
   "cell_type": "markdown",
   "id": "403faf29-8756-4419-b8f1-098f61233865",
   "metadata": {},
   "source": [
    "### Introduction\n",
    "* Provide some relevant background information on the topic so that someone unfamiliar with it will be prepared to understand the rest of your proposal.\n",
    "* Clearly state the question you will try to answer with your project.\n",
    "* Identify and describe the dataset that will be used to answer the question.\n",
    "\n",
    "Potable water (water that is safe to drink) is a basic requirement for human life. Lack of access to potable water is an issue that continues to affect many regions globally. The United Nations Sustainable Development Goal 6 is accordingly: \"Ensure availability and sustainable management of water and sanitation for all”. According to the most recent report from the World Health Organization (WHO) (https://www.who.int/publications/i/item/9789240060807), in 2020 an estimated 26% of the global population (1.97 billion individuals) did not had access to safely managed drinking water services. Researching sufficiently fast, reliable, and cost-effective ways of evaluating the safety of drinking water is crucial to addressing this issue. In 2016, UNICEF called for the production of rapid-test kits for detecting the bacterium *Escherichia coli* (usually present in fecally contaminated water) (https://www.unicef.org/innovation/rapid-water-quality-testing). Apart from microbes, various other factors affect water potability.\n",
    "\n",
    "In this project, we will utilize a synthetically generated dataset (https://www.kaggle.com/datasets/adityakadiwal/water-potability) containing over 3000 observations, each representing a sample of water. Each observation contains nine variables that affect water potability (pH, hardness, total dissolved solids, chloramines, sulfate, conductivity, organic carbon, trihalomethanes, and turbidity) as well as a score indicating whether or not the water is potable. Using this dataset, we aim to demonstrate how a classification model can be trained to accurately evaluate whether or not an unknown sample of water is potable based on measurable variables."
   ]
  },
  {
   "cell_type": "markdown",
   "id": "f74bfe15-e74f-4e67-8981-8eef0a68cddd",
   "metadata": {},
   "source": [
    "### Content\n",
    "\n",
    "\n",
    "- **pH value**: PH is an important parameter in evaluating the acid–base balance of water.WHO has recommended maximum permissible limit of pH from 6.5 to 8.5.\n",
    "\n",
    "- **Hardness**: Hardness is defined as the capacity of water to precipitate soap caused by Calcium and Magnesium.\n",
    "\n",
    "- **Solids (Total dissolved solids - TDS)**: Water has the ability to dissolve a wide range of inorganic and some organic minerals or salts such as potassium, calcium, sodium, bicarbonates, chlorides, magnesium, sulfates etc.\n",
    "\n",
    "- **Chloramines**: Chlorine and chloramine are the major disinfectants used in public water systems.Chlorine levels up to 4 milligrams per liter (mg/L or 4 parts per million (ppm)) are considered safe in drinking water.\n",
    "\n",
    "- **Sulfate**: Sulfates are naturally occurring substances that are found in minerals, soil, and rocks.It ranges from 3 to 30 mg/L in most freshwater supplies, although much higher concentrations (1000 mg/L) are found in some geographic locations.\n",
    "\n",
    "- **Conductivity**: Pure water is not a good conductor of electric current rather s a good insulator. Increase in ions concentration enhances the electrical conductivity of water.According to WHO standards, EC value should not exceeded 400 μS/cm.\n",
    "\n",
    "- **Organic_carbon**: Total Organic Carbon (TOC) in source waters comes from decaying natural organic matter (NOM) as well as synthetic sources.According to US EPA < 2 mg/L as TOC in treated / drinking water, and < 4 mg/Lit in source water which is use for treatment.\n",
    "\n",
    "- **Trihalomethanes**: THMs are chemicals which may be found in water treated with chlorine.THM levels up to 80 ppm is considered safe in drinking water.\n",
    "\n",
    "- **Turbidity**: The turbidity of water depends on the quantity of solid matter present in the suspended state.The mean turbidity value obtained for Wondo Genet Campus (0.98 NTU) is lower than the WHO recommended value of 5.00 NTU.\n",
    "\n",
    "- **Potability**: Indicates if water is safe for human consumption where 1 means Potable and 0 means Not potable.\n",
    "\n"
   ]
  },
  {
   "cell_type": "markdown",
   "id": "d54459a6-2a69-450c-8a38-e78bc89a43ff",
   "metadata": {},
   "source": [
    "### Preliminary exploratory data analysis\n",
    "* Demonstrate that the dataset can be read from the web into R.\n",
    "* Clean and wrangle your data into a tidy format.\n",
    "* Using only training data, summarize the data in at least one table (this is exploratory data analysis). An example of a useful table could be one that reports the number of observations in each class, the means of the predictor variables you plan to use in your analysis and how many rows have missing data. \n",
    "* Using only training data, visualize the data with at least one plot relevant to the analysis you plan to do (this is exploratory data analysis). An example of a useful visualization could be one that compares the distributions of each of the predictor variables you plan to use in your analysis.\n",
    "\n",
    "[WRITE HERE AND CODE BELOW]"
   ]
  },
  {
   "cell_type": "code",
   "execution_count": 99,
   "id": "31a1554f-b749-488e-b5ca-3ed5fa64e2e4",
   "metadata": {},
   "outputs": [
    {
     "name": "stderr",
     "output_type": "stream",
     "text": [
      "\u001b[1mRows: \u001b[22m\u001b[34m3276\u001b[39m \u001b[1mColumns: \u001b[22m\u001b[34m10\u001b[39m\n",
      "\u001b[36m──\u001b[39m \u001b[1mColumn specification\u001b[22m \u001b[36m────────────────────────────────────────────────────────\u001b[39m\n",
      "\u001b[1mDelimiter:\u001b[22m \",\"\n",
      "\u001b[32mdbl\u001b[39m (10): ph, Hardness, Solids, Chloramines, Sulfate, Conductivity, Organic_...\n",
      "\n",
      "\u001b[36mℹ\u001b[39m Use `spec()` to retrieve the full column specification for this data.\n",
      "\u001b[36mℹ\u001b[39m Specify the column types or set `show_col_types = FALSE` to quiet this message.\n"
     ]
    },
    {
     "data": {
      "text/html": [
       "3276"
      ],
      "text/latex": [
       "3276"
      ],
      "text/markdown": [
       "3276"
      ],
      "text/plain": [
       "[1] 3276"
      ]
     },
     "metadata": {},
     "output_type": "display_data"
    },
    {
     "data": {
      "text/html": [
       "<table class=\"dataframe\">\n",
       "<caption>A tibble: 6 × 10</caption>\n",
       "<thead>\n",
       "\t<tr><th scope=col>ph</th><th scope=col>Hardness</th><th scope=col>Solids</th><th scope=col>Chloramines</th><th scope=col>Sulfate</th><th scope=col>Conductivity</th><th scope=col>Organic_carbon</th><th scope=col>Trihalomethanes</th><th scope=col>Turbidity</th><th scope=col>Potability</th></tr>\n",
       "\t<tr><th scope=col>&lt;dbl&gt;</th><th scope=col>&lt;dbl&gt;</th><th scope=col>&lt;dbl&gt;</th><th scope=col>&lt;dbl&gt;</th><th scope=col>&lt;dbl&gt;</th><th scope=col>&lt;dbl&gt;</th><th scope=col>&lt;dbl&gt;</th><th scope=col>&lt;dbl&gt;</th><th scope=col>&lt;dbl&gt;</th><th scope=col>&lt;dbl&gt;</th></tr>\n",
       "</thead>\n",
       "<tbody>\n",
       "\t<tr><td>      NA</td><td>204.8905</td><td>20791.32</td><td>7.300212</td><td>368.5164</td><td>564.3087</td><td>10.379783</td><td> 86.99097</td><td>2.963135</td><td>0</td></tr>\n",
       "\t<tr><td>3.716080</td><td>129.4229</td><td>18630.06</td><td>6.635246</td><td>      NA</td><td>592.8854</td><td>15.180013</td><td> 56.32908</td><td>4.500656</td><td>0</td></tr>\n",
       "\t<tr><td>8.099124</td><td>224.2363</td><td>19909.54</td><td>9.275884</td><td>      NA</td><td>418.6062</td><td>16.868637</td><td> 66.42009</td><td>3.055934</td><td>0</td></tr>\n",
       "\t<tr><td>8.316766</td><td>214.3734</td><td>22018.42</td><td>8.059332</td><td>356.8861</td><td>363.2665</td><td>18.436524</td><td>100.34167</td><td>4.628771</td><td>0</td></tr>\n",
       "\t<tr><td>9.092223</td><td>181.1015</td><td>17978.99</td><td>6.546600</td><td>310.1357</td><td>398.4108</td><td>11.558279</td><td> 31.99799</td><td>4.075075</td><td>0</td></tr>\n",
       "\t<tr><td>5.584087</td><td>188.3133</td><td>28748.69</td><td>7.544869</td><td>326.6784</td><td>280.4679</td><td> 8.399735</td><td> 54.91786</td><td>2.559708</td><td>0</td></tr>\n",
       "</tbody>\n",
       "</table>\n"
      ],
      "text/latex": [
       "A tibble: 6 × 10\n",
       "\\begin{tabular}{llllllllll}\n",
       " ph & Hardness & Solids & Chloramines & Sulfate & Conductivity & Organic\\_carbon & Trihalomethanes & Turbidity & Potability\\\\\n",
       " <dbl> & <dbl> & <dbl> & <dbl> & <dbl> & <dbl> & <dbl> & <dbl> & <dbl> & <dbl>\\\\\n",
       "\\hline\n",
       "\t       NA & 204.8905 & 20791.32 & 7.300212 & 368.5164 & 564.3087 & 10.379783 &  86.99097 & 2.963135 & 0\\\\\n",
       "\t 3.716080 & 129.4229 & 18630.06 & 6.635246 &       NA & 592.8854 & 15.180013 &  56.32908 & 4.500656 & 0\\\\\n",
       "\t 8.099124 & 224.2363 & 19909.54 & 9.275884 &       NA & 418.6062 & 16.868637 &  66.42009 & 3.055934 & 0\\\\\n",
       "\t 8.316766 & 214.3734 & 22018.42 & 8.059332 & 356.8861 & 363.2665 & 18.436524 & 100.34167 & 4.628771 & 0\\\\\n",
       "\t 9.092223 & 181.1015 & 17978.99 & 6.546600 & 310.1357 & 398.4108 & 11.558279 &  31.99799 & 4.075075 & 0\\\\\n",
       "\t 5.584087 & 188.3133 & 28748.69 & 7.544869 & 326.6784 & 280.4679 &  8.399735 &  54.91786 & 2.559708 & 0\\\\\n",
       "\\end{tabular}\n"
      ],
      "text/markdown": [
       "\n",
       "A tibble: 6 × 10\n",
       "\n",
       "| ph &lt;dbl&gt; | Hardness &lt;dbl&gt; | Solids &lt;dbl&gt; | Chloramines &lt;dbl&gt; | Sulfate &lt;dbl&gt; | Conductivity &lt;dbl&gt; | Organic_carbon &lt;dbl&gt; | Trihalomethanes &lt;dbl&gt; | Turbidity &lt;dbl&gt; | Potability &lt;dbl&gt; |\n",
       "|---|---|---|---|---|---|---|---|---|---|\n",
       "|       NA | 204.8905 | 20791.32 | 7.300212 | 368.5164 | 564.3087 | 10.379783 |  86.99097 | 2.963135 | 0 |\n",
       "| 3.716080 | 129.4229 | 18630.06 | 6.635246 |       NA | 592.8854 | 15.180013 |  56.32908 | 4.500656 | 0 |\n",
       "| 8.099124 | 224.2363 | 19909.54 | 9.275884 |       NA | 418.6062 | 16.868637 |  66.42009 | 3.055934 | 0 |\n",
       "| 8.316766 | 214.3734 | 22018.42 | 8.059332 | 356.8861 | 363.2665 | 18.436524 | 100.34167 | 4.628771 | 0 |\n",
       "| 9.092223 | 181.1015 | 17978.99 | 6.546600 | 310.1357 | 398.4108 | 11.558279 |  31.99799 | 4.075075 | 0 |\n",
       "| 5.584087 | 188.3133 | 28748.69 | 7.544869 | 326.6784 | 280.4679 |  8.399735 |  54.91786 | 2.559708 | 0 |\n",
       "\n"
      ],
      "text/plain": [
       "  ph       Hardness Solids   Chloramines Sulfate  Conductivity Organic_carbon\n",
       "1       NA 204.8905 20791.32 7.300212    368.5164 564.3087     10.379783     \n",
       "2 3.716080 129.4229 18630.06 6.635246          NA 592.8854     15.180013     \n",
       "3 8.099124 224.2363 19909.54 9.275884          NA 418.6062     16.868637     \n",
       "4 8.316766 214.3734 22018.42 8.059332    356.8861 363.2665     18.436524     \n",
       "5 9.092223 181.1015 17978.99 6.546600    310.1357 398.4108     11.558279     \n",
       "6 5.584087 188.3133 28748.69 7.544869    326.6784 280.4679      8.399735     \n",
       "  Trihalomethanes Turbidity Potability\n",
       "1  86.99097       2.963135  0         \n",
       "2  56.32908       4.500656  0         \n",
       "3  66.42009       3.055934  0         \n",
       "4 100.34167       4.628771  0         \n",
       "5  31.99799       4.075075  0         \n",
       "6  54.91786       2.559708  0         "
      ]
     },
     "metadata": {},
     "output_type": "display_data"
    }
   ],
   "source": [
    "library(repr)\n",
    "library(tidyverse)\n",
    "library(tidymodels)\n",
    "\n",
    "#1. READ DATA\n",
    "water_potability_raw <- read_csv(\"data/water_potability.csv\") #Unedited \"raw\" dataset\n",
    "\n",
    "nrow(water_potability_raw) #Show number of observations in the raw dataset.\n",
    "\n",
    "head(water_potability_raw)"
   ]
  },
  {
   "cell_type": "code",
   "execution_count": 100,
   "id": "72730766-bc5b-442c-968c-00beb428e815",
   "metadata": {},
   "outputs": [
    {
     "data": {
      "text/html": [
       "2011"
      ],
      "text/latex": [
       "2011"
      ],
      "text/markdown": [
       "2011"
      ],
      "text/plain": [
       "[1] 2011"
      ]
     },
     "metadata": {},
     "output_type": "display_data"
    },
    {
     "data": {
      "text/html": [
       "<table class=\"dataframe\">\n",
       "<caption>A tibble: 6 × 10</caption>\n",
       "<thead>\n",
       "\t<tr><th scope=col>ph</th><th scope=col>hardness</th><th scope=col>solids</th><th scope=col>chloramines</th><th scope=col>sulfate</th><th scope=col>conductivity</th><th scope=col>organic_carbon</th><th scope=col>trihalomethanes</th><th scope=col>turbidity</th><th scope=col>potability</th></tr>\n",
       "\t<tr><th scope=col>&lt;dbl&gt;</th><th scope=col>&lt;dbl&gt;</th><th scope=col>&lt;dbl&gt;</th><th scope=col>&lt;dbl&gt;</th><th scope=col>&lt;dbl&gt;</th><th scope=col>&lt;dbl&gt;</th><th scope=col>&lt;dbl&gt;</th><th scope=col>&lt;dbl&gt;</th><th scope=col>&lt;dbl&gt;</th><th scope=col>&lt;fct&gt;</th></tr>\n",
       "</thead>\n",
       "<tbody>\n",
       "\t<tr><td> 8.316766</td><td>214.3734</td><td>22018.42</td><td>8.059332</td><td>356.8861</td><td>363.2665</td><td>18.436524</td><td>100.34167</td><td>4.628771</td><td>0</td></tr>\n",
       "\t<tr><td> 9.092223</td><td>181.1015</td><td>17978.99</td><td>6.546600</td><td>310.1357</td><td>398.4108</td><td>11.558279</td><td> 31.99799</td><td>4.075075</td><td>0</td></tr>\n",
       "\t<tr><td> 5.584087</td><td>188.3133</td><td>28748.69</td><td>7.544869</td><td>326.6784</td><td>280.4679</td><td> 8.399735</td><td> 54.91786</td><td>2.559708</td><td>0</td></tr>\n",
       "\t<tr><td>10.223862</td><td>248.0717</td><td>28749.72</td><td>7.513408</td><td>393.6634</td><td>283.6516</td><td>13.789695</td><td> 84.60356</td><td>2.672989</td><td>0</td></tr>\n",
       "\t<tr><td> 8.635849</td><td>203.3615</td><td>13672.09</td><td>4.563009</td><td>303.3098</td><td>474.6076</td><td>12.363817</td><td> 62.79831</td><td>4.401425</td><td>0</td></tr>\n",
       "\t<tr><td>11.180284</td><td>227.2315</td><td>25484.51</td><td>9.077200</td><td>404.0416</td><td>563.8855</td><td>17.927806</td><td> 71.97660</td><td>4.370562</td><td>0</td></tr>\n",
       "</tbody>\n",
       "</table>\n"
      ],
      "text/latex": [
       "A tibble: 6 × 10\n",
       "\\begin{tabular}{llllllllll}\n",
       " ph & hardness & solids & chloramines & sulfate & conductivity & organic\\_carbon & trihalomethanes & turbidity & potability\\\\\n",
       " <dbl> & <dbl> & <dbl> & <dbl> & <dbl> & <dbl> & <dbl> & <dbl> & <dbl> & <fct>\\\\\n",
       "\\hline\n",
       "\t  8.316766 & 214.3734 & 22018.42 & 8.059332 & 356.8861 & 363.2665 & 18.436524 & 100.34167 & 4.628771 & 0\\\\\n",
       "\t  9.092223 & 181.1015 & 17978.99 & 6.546600 & 310.1357 & 398.4108 & 11.558279 &  31.99799 & 4.075075 & 0\\\\\n",
       "\t  5.584087 & 188.3133 & 28748.69 & 7.544869 & 326.6784 & 280.4679 &  8.399735 &  54.91786 & 2.559708 & 0\\\\\n",
       "\t 10.223862 & 248.0717 & 28749.72 & 7.513408 & 393.6634 & 283.6516 & 13.789695 &  84.60356 & 2.672989 & 0\\\\\n",
       "\t  8.635849 & 203.3615 & 13672.09 & 4.563009 & 303.3098 & 474.6076 & 12.363817 &  62.79831 & 4.401425 & 0\\\\\n",
       "\t 11.180284 & 227.2315 & 25484.51 & 9.077200 & 404.0416 & 563.8855 & 17.927806 &  71.97660 & 4.370562 & 0\\\\\n",
       "\\end{tabular}\n"
      ],
      "text/markdown": [
       "\n",
       "A tibble: 6 × 10\n",
       "\n",
       "| ph &lt;dbl&gt; | hardness &lt;dbl&gt; | solids &lt;dbl&gt; | chloramines &lt;dbl&gt; | sulfate &lt;dbl&gt; | conductivity &lt;dbl&gt; | organic_carbon &lt;dbl&gt; | trihalomethanes &lt;dbl&gt; | turbidity &lt;dbl&gt; | potability &lt;fct&gt; |\n",
       "|---|---|---|---|---|---|---|---|---|---|\n",
       "|  8.316766 | 214.3734 | 22018.42 | 8.059332 | 356.8861 | 363.2665 | 18.436524 | 100.34167 | 4.628771 | 0 |\n",
       "|  9.092223 | 181.1015 | 17978.99 | 6.546600 | 310.1357 | 398.4108 | 11.558279 |  31.99799 | 4.075075 | 0 |\n",
       "|  5.584087 | 188.3133 | 28748.69 | 7.544869 | 326.6784 | 280.4679 |  8.399735 |  54.91786 | 2.559708 | 0 |\n",
       "| 10.223862 | 248.0717 | 28749.72 | 7.513408 | 393.6634 | 283.6516 | 13.789695 |  84.60356 | 2.672989 | 0 |\n",
       "|  8.635849 | 203.3615 | 13672.09 | 4.563009 | 303.3098 | 474.6076 | 12.363817 |  62.79831 | 4.401425 | 0 |\n",
       "| 11.180284 | 227.2315 | 25484.51 | 9.077200 | 404.0416 | 563.8855 | 17.927806 |  71.97660 | 4.370562 | 0 |\n",
       "\n"
      ],
      "text/plain": [
       "  ph        hardness solids   chloramines sulfate  conductivity organic_carbon\n",
       "1  8.316766 214.3734 22018.42 8.059332    356.8861 363.2665     18.436524     \n",
       "2  9.092223 181.1015 17978.99 6.546600    310.1357 398.4108     11.558279     \n",
       "3  5.584087 188.3133 28748.69 7.544869    326.6784 280.4679      8.399735     \n",
       "4 10.223862 248.0717 28749.72 7.513408    393.6634 283.6516     13.789695     \n",
       "5  8.635849 203.3615 13672.09 4.563009    303.3098 474.6076     12.363817     \n",
       "6 11.180284 227.2315 25484.51 9.077200    404.0416 563.8855     17.927806     \n",
       "  trihalomethanes turbidity potability\n",
       "1 100.34167       4.628771  0         \n",
       "2  31.99799       4.075075  0         \n",
       "3  54.91786       2.559708  0         \n",
       "4  84.60356       2.672989  0         \n",
       "5  62.79831       4.401425  0         \n",
       "6  71.97660       4.370562  0         "
      ]
     },
     "metadata": {},
     "output_type": "display_data"
    }
   ],
   "source": [
    "#2. CLEAN DATA AND REMOVE NA ROWS\n",
    "water_potability_clean <- water_potability_raw |>\n",
    "    rename(hardness = Hardness, solids = Solids, chloramines = Chloramines, sulfate = Sulfate, conductivity = Conductivity, organic_carbon = Organic_carbon, trihalomethanes = Trihalomethanes, turbidity = Turbidity, potability = Potability) |>\n",
    "    mutate(potability = as_factor(potability)) |>\n",
    "    na.omit()\n",
    "\n",
    "nrow(water_potability_clean) #Show number of observations in the cleaned dataset (NA removed)\n",
    "\n",
    "head(water_potability_clean)"
   ]
  },
  {
   "cell_type": "code",
   "execution_count": 101,
   "id": "6c4c6239-09ba-47fd-8117-732e0ebca001",
   "metadata": {},
   "outputs": [
    {
     "data": {
      "text/html": [
       "<table class=\"dataframe\">\n",
       "<caption>A tibble: 1 × 9</caption>\n",
       "<thead>\n",
       "\t<tr><th scope=col>ph</th><th scope=col>hardness</th><th scope=col>solids</th><th scope=col>chloramines</th><th scope=col>sulfate</th><th scope=col>conductivity</th><th scope=col>organic_carbon</th><th scope=col>trihalomethanes</th><th scope=col>turbidity</th></tr>\n",
       "\t<tr><th scope=col>&lt;dbl&gt;</th><th scope=col>&lt;dbl&gt;</th><th scope=col>&lt;dbl&gt;</th><th scope=col>&lt;dbl&gt;</th><th scope=col>&lt;dbl&gt;</th><th scope=col>&lt;dbl&gt;</th><th scope=col>&lt;dbl&gt;</th><th scope=col>&lt;dbl&gt;</th><th scope=col>&lt;dbl&gt;</th></tr>\n",
       "</thead>\n",
       "<tbody>\n",
       "\t<tr><td>0.9899122</td><td>73.49223</td><td>1198.944</td><td>1.390871</td><td>129</td><td>201.6197</td><td>4.466772</td><td>8.577013</td><td>1.45</td></tr>\n",
       "</tbody>\n",
       "</table>\n"
      ],
      "text/latex": [
       "A tibble: 1 × 9\n",
       "\\begin{tabular}{lllllllll}\n",
       " ph & hardness & solids & chloramines & sulfate & conductivity & organic\\_carbon & trihalomethanes & turbidity\\\\\n",
       " <dbl> & <dbl> & <dbl> & <dbl> & <dbl> & <dbl> & <dbl> & <dbl> & <dbl>\\\\\n",
       "\\hline\n",
       "\t 0.9899122 & 73.49223 & 1198.944 & 1.390871 & 129 & 201.6197 & 4.466772 & 8.577013 & 1.45\\\\\n",
       "\\end{tabular}\n"
      ],
      "text/markdown": [
       "\n",
       "A tibble: 1 × 9\n",
       "\n",
       "| ph &lt;dbl&gt; | hardness &lt;dbl&gt; | solids &lt;dbl&gt; | chloramines &lt;dbl&gt; | sulfate &lt;dbl&gt; | conductivity &lt;dbl&gt; | organic_carbon &lt;dbl&gt; | trihalomethanes &lt;dbl&gt; | turbidity &lt;dbl&gt; |\n",
       "|---|---|---|---|---|---|---|---|---|\n",
       "| 0.9899122 | 73.49223 | 1198.944 | 1.390871 | 129 | 201.6197 | 4.466772 | 8.577013 | 1.45 |\n",
       "\n"
      ],
      "text/plain": [
       "  ph        hardness solids   chloramines sulfate conductivity organic_carbon\n",
       "1 0.9899122 73.49223 1198.944 1.390871    129     201.6197     4.466772      \n",
       "  trihalomethanes turbidity\n",
       "1 8.577013        1.45     "
      ]
     },
     "metadata": {},
     "output_type": "display_data"
    },
    {
     "data": {
      "text/html": [
       "<table class=\"dataframe\">\n",
       "<caption>A tibble: 1 × 9</caption>\n",
       "<thead>\n",
       "\t<tr><th scope=col>ph</th><th scope=col>hardness</th><th scope=col>solids</th><th scope=col>chloramines</th><th scope=col>sulfate</th><th scope=col>conductivity</th><th scope=col>organic_carbon</th><th scope=col>trihalomethanes</th><th scope=col>turbidity</th></tr>\n",
       "\t<tr><th scope=col>&lt;dbl&gt;</th><th scope=col>&lt;dbl&gt;</th><th scope=col>&lt;dbl&gt;</th><th scope=col>&lt;dbl&gt;</th><th scope=col>&lt;dbl&gt;</th><th scope=col>&lt;dbl&gt;</th><th scope=col>&lt;dbl&gt;</th><th scope=col>&lt;dbl&gt;</th><th scope=col>&lt;dbl&gt;</th></tr>\n",
       "</thead>\n",
       "<tbody>\n",
       "\t<tr><td>14</td><td>317.3381</td><td>56488.67</td><td>13.127</td><td>481.0306</td><td>708.2264</td><td>27.00671</td><td>124</td><td>6.494749</td></tr>\n",
       "</tbody>\n",
       "</table>\n"
      ],
      "text/latex": [
       "A tibble: 1 × 9\n",
       "\\begin{tabular}{lllllllll}\n",
       " ph & hardness & solids & chloramines & sulfate & conductivity & organic\\_carbon & trihalomethanes & turbidity\\\\\n",
       " <dbl> & <dbl> & <dbl> & <dbl> & <dbl> & <dbl> & <dbl> & <dbl> & <dbl>\\\\\n",
       "\\hline\n",
       "\t 14 & 317.3381 & 56488.67 & 13.127 & 481.0306 & 708.2264 & 27.00671 & 124 & 6.494749\\\\\n",
       "\\end{tabular}\n"
      ],
      "text/markdown": [
       "\n",
       "A tibble: 1 × 9\n",
       "\n",
       "| ph &lt;dbl&gt; | hardness &lt;dbl&gt; | solids &lt;dbl&gt; | chloramines &lt;dbl&gt; | sulfate &lt;dbl&gt; | conductivity &lt;dbl&gt; | organic_carbon &lt;dbl&gt; | trihalomethanes &lt;dbl&gt; | turbidity &lt;dbl&gt; |\n",
       "|---|---|---|---|---|---|---|---|---|\n",
       "| 14 | 317.3381 | 56488.67 | 13.127 | 481.0306 | 708.2264 | 27.00671 | 124 | 6.494749 |\n",
       "\n"
      ],
      "text/plain": [
       "  ph hardness solids   chloramines sulfate  conductivity organic_carbon\n",
       "1 14 317.3381 56488.67 13.127      481.0306 708.2264     27.00671      \n",
       "  trihalomethanes turbidity\n",
       "1 124             6.494749 "
      ]
     },
     "metadata": {},
     "output_type": "display_data"
    },
    {
     "data": {
      "text/html": [
       "<table class=\"dataframe\">\n",
       "<caption>A data.frame: 1 × 9</caption>\n",
       "<thead>\n",
       "\t<tr><th scope=col>ph</th><th scope=col>hardness</th><th scope=col>solids</th><th scope=col>chloramines</th><th scope=col>sulfate</th><th scope=col>conductivity</th><th scope=col>organic_carbon</th><th scope=col>trihalomethanes</th><th scope=col>turbidity</th></tr>\n",
       "\t<tr><th scope=col>&lt;dbl&gt;</th><th scope=col>&lt;dbl&gt;</th><th scope=col>&lt;dbl&gt;</th><th scope=col>&lt;dbl&gt;</th><th scope=col>&lt;dbl&gt;</th><th scope=col>&lt;dbl&gt;</th><th scope=col>&lt;dbl&gt;</th><th scope=col>&lt;dbl&gt;</th><th scope=col>&lt;dbl&gt;</th></tr>\n",
       "</thead>\n",
       "<tbody>\n",
       "\t<tr><td>13.01009</td><td>243.8459</td><td>55289.73</td><td>11.73613</td><td>352.0306</td><td>506.6066</td><td>22.53993</td><td>115.423</td><td>5.044749</td></tr>\n",
       "</tbody>\n",
       "</table>\n"
      ],
      "text/latex": [
       "A data.frame: 1 × 9\n",
       "\\begin{tabular}{lllllllll}\n",
       " ph & hardness & solids & chloramines & sulfate & conductivity & organic\\_carbon & trihalomethanes & turbidity\\\\\n",
       " <dbl> & <dbl> & <dbl> & <dbl> & <dbl> & <dbl> & <dbl> & <dbl> & <dbl>\\\\\n",
       "\\hline\n",
       "\t 13.01009 & 243.8459 & 55289.73 & 11.73613 & 352.0306 & 506.6066 & 22.53993 & 115.423 & 5.044749\\\\\n",
       "\\end{tabular}\n"
      ],
      "text/markdown": [
       "\n",
       "A data.frame: 1 × 9\n",
       "\n",
       "| ph &lt;dbl&gt; | hardness &lt;dbl&gt; | solids &lt;dbl&gt; | chloramines &lt;dbl&gt; | sulfate &lt;dbl&gt; | conductivity &lt;dbl&gt; | organic_carbon &lt;dbl&gt; | trihalomethanes &lt;dbl&gt; | turbidity &lt;dbl&gt; |\n",
       "|---|---|---|---|---|---|---|---|---|\n",
       "| 13.01009 | 243.8459 | 55289.73 | 11.73613 | 352.0306 | 506.6066 | 22.53993 | 115.423 | 5.044749 |\n",
       "\n"
      ],
      "text/plain": [
       "  ph       hardness solids   chloramines sulfate  conductivity organic_carbon\n",
       "1 13.01009 243.8459 55289.73 11.73613    352.0306 506.6066     22.53993      \n",
       "  trihalomethanes turbidity\n",
       "1 115.423         5.044749 "
      ]
     },
     "metadata": {},
     "output_type": "display_data"
    },
    {
     "data": {
      "text/html": [
       "<table class=\"dataframe\">\n",
       "<caption>A tibble: 6 × 9</caption>\n",
       "<thead>\n",
       "\t<tr><th scope=col>ph</th><th scope=col>hardness</th><th scope=col>solids</th><th scope=col>chloramines</th><th scope=col>sulfate</th><th scope=col>conductivity</th><th scope=col>organic_carbon</th><th scope=col>trihalomethanes</th><th scope=col>turbidity</th></tr>\n",
       "\t<tr><th scope=col>&lt;dbl&gt;</th><th scope=col>&lt;dbl&gt;</th><th scope=col>&lt;dbl&gt;</th><th scope=col>&lt;dbl&gt;</th><th scope=col>&lt;dbl&gt;</th><th scope=col>&lt;dbl&gt;</th><th scope=col>&lt;dbl&gt;</th><th scope=col>&lt;dbl&gt;</th><th scope=col>&lt;dbl&gt;</th></tr>\n",
       "</thead>\n",
       "<tbody>\n",
       "\t<tr><td>0.5631671</td><td>0.5777467</td><td>0.3765523</td><td>0.5681994</td><td>0.6473474</td><td>0.3190775</td><td>0.6197779</td><td>0.7950293</td><td>0.6301148</td></tr>\n",
       "\t<tr><td>0.6227715</td><td>0.4413003</td><td>0.3034929</td><td>0.4393041</td><td>0.5145454</td><td>0.3884495</td><td>0.3146197</td><td>0.2029143</td><td>0.5203580</td></tr>\n",
       "\t<tr><td>0.3531240</td><td>0.4708756</td><td>0.4982796</td><td>0.5243635</td><td>0.5615374</td><td>0.1556398</td><td>0.1744886</td><td>0.4014872</td><td>0.2199730</td></tr>\n",
       "\t<tr><td>0.5876929</td><td>0.5325876</td><td>0.2255961</td><td>0.2702882</td><td>0.4951551</td><td>0.5388558</td><td>0.3503579</td><td>0.4697617</td><td>0.5850489</td></tr>\n",
       "\t<tr><td>0.4896760</td><td>0.3774046</td><td>0.5652708</td><td>0.5248605</td><td>0.5613840</td><td>0.4416912</td><td>0.4933483</td><td>0.6078772</td><td>0.4385336</td></tr>\n",
       "\t<tr><td>0.4711661</td><td>0.3412514</td><td>0.3170909</td><td>0.1887475</td><td>0.4355986</td><td>0.2883801</td><td>0.5085536</td><td>0.6144683</td><td>0.3956106</td></tr>\n",
       "</tbody>\n",
       "</table>\n"
      ],
      "text/latex": [
       "A tibble: 6 × 9\n",
       "\\begin{tabular}{lllllllll}\n",
       " ph & hardness & solids & chloramines & sulfate & conductivity & organic\\_carbon & trihalomethanes & turbidity\\\\\n",
       " <dbl> & <dbl> & <dbl> & <dbl> & <dbl> & <dbl> & <dbl> & <dbl> & <dbl>\\\\\n",
       "\\hline\n",
       "\t 0.5631671 & 0.5777467 & 0.3765523 & 0.5681994 & 0.6473474 & 0.3190775 & 0.6197779 & 0.7950293 & 0.6301148\\\\\n",
       "\t 0.6227715 & 0.4413003 & 0.3034929 & 0.4393041 & 0.5145454 & 0.3884495 & 0.3146197 & 0.2029143 & 0.5203580\\\\\n",
       "\t 0.3531240 & 0.4708756 & 0.4982796 & 0.5243635 & 0.5615374 & 0.1556398 & 0.1744886 & 0.4014872 & 0.2199730\\\\\n",
       "\t 0.5876929 & 0.5325876 & 0.2255961 & 0.2702882 & 0.4951551 & 0.5388558 & 0.3503579 & 0.4697617 & 0.5850489\\\\\n",
       "\t 0.4896760 & 0.3774046 & 0.5652708 & 0.5248605 & 0.5613840 & 0.4416912 & 0.4933483 & 0.6078772 & 0.4385336\\\\\n",
       "\t 0.4711661 & 0.3412514 & 0.3170909 & 0.1887475 & 0.4355986 & 0.2883801 & 0.5085536 & 0.6144683 & 0.3956106\\\\\n",
       "\\end{tabular}\n"
      ],
      "text/markdown": [
       "\n",
       "A tibble: 6 × 9\n",
       "\n",
       "| ph &lt;dbl&gt; | hardness &lt;dbl&gt; | solids &lt;dbl&gt; | chloramines &lt;dbl&gt; | sulfate &lt;dbl&gt; | conductivity &lt;dbl&gt; | organic_carbon &lt;dbl&gt; | trihalomethanes &lt;dbl&gt; | turbidity &lt;dbl&gt; |\n",
       "|---|---|---|---|---|---|---|---|---|\n",
       "| 0.5631671 | 0.5777467 | 0.3765523 | 0.5681994 | 0.6473474 | 0.3190775 | 0.6197779 | 0.7950293 | 0.6301148 |\n",
       "| 0.6227715 | 0.4413003 | 0.3034929 | 0.4393041 | 0.5145454 | 0.3884495 | 0.3146197 | 0.2029143 | 0.5203580 |\n",
       "| 0.3531240 | 0.4708756 | 0.4982796 | 0.5243635 | 0.5615374 | 0.1556398 | 0.1744886 | 0.4014872 | 0.2199730 |\n",
       "| 0.5876929 | 0.5325876 | 0.2255961 | 0.2702882 | 0.4951551 | 0.5388558 | 0.3503579 | 0.4697617 | 0.5850489 |\n",
       "| 0.4896760 | 0.3774046 | 0.5652708 | 0.5248605 | 0.5613840 | 0.4416912 | 0.4933483 | 0.6078772 | 0.4385336 |\n",
       "| 0.4711661 | 0.3412514 | 0.3170909 | 0.1887475 | 0.4355986 | 0.2883801 | 0.5085536 | 0.6144683 | 0.3956106 |\n",
       "\n"
      ],
      "text/plain": [
       "  ph        hardness  solids    chloramines sulfate   conductivity\n",
       "1 0.5631671 0.5777467 0.3765523 0.5681994   0.6473474 0.3190775   \n",
       "2 0.6227715 0.4413003 0.3034929 0.4393041   0.5145454 0.3884495   \n",
       "3 0.3531240 0.4708756 0.4982796 0.5243635   0.5615374 0.1556398   \n",
       "4 0.5876929 0.5325876 0.2255961 0.2702882   0.4951551 0.5388558   \n",
       "5 0.4896760 0.3774046 0.5652708 0.5248605   0.5613840 0.4416912   \n",
       "6 0.4711661 0.3412514 0.3170909 0.1887475   0.4355986 0.2883801   \n",
       "  organic_carbon trihalomethanes turbidity\n",
       "1 0.6197779      0.7950293       0.6301148\n",
       "2 0.3146197      0.2029143       0.5203580\n",
       "3 0.1744886      0.4014872       0.2199730\n",
       "4 0.3503579      0.4697617       0.5850489\n",
       "5 0.4933483      0.6078772       0.4385336\n",
       "6 0.5085536      0.6144683       0.3956106"
      ]
     },
     "metadata": {},
     "output_type": "display_data"
    },
    {
     "data": {
      "text/html": [
       "<table class=\"dataframe\">\n",
       "<caption>A data.frame: 2 × 11</caption>\n",
       "<thead>\n",
       "\t<tr><th></th><th scope=col>potability</th><th scope=col>ph</th><th scope=col>hardness</th><th scope=col>solids</th><th scope=col>chloramines</th><th scope=col>sulfate</th><th scope=col>conductivity</th><th scope=col>organic_carbon</th><th scope=col>trihalomethanes</th><th scope=col>turbidity</th><th scope=col>n</th></tr>\n",
       "\t<tr><th></th><th scope=col>&lt;fct&gt;</th><th scope=col>&lt;dbl&gt;</th><th scope=col>&lt;dbl&gt;</th><th scope=col>&lt;dbl&gt;</th><th scope=col>&lt;dbl&gt;</th><th scope=col>&lt;dbl&gt;</th><th scope=col>&lt;dbl&gt;</th><th scope=col>&lt;dbl&gt;</th><th scope=col>&lt;dbl&gt;</th><th scope=col>&lt;dbl&gt;</th><th scope=col>&lt;int&gt;</th></tr>\n",
       "</thead>\n",
       "<tbody>\n",
       "\t<tr><th scope=row>1</th><td>0</td><td>7.049229</td><td>196.0582</td><td>21904.64</td><td>7.147800</td><td>332.8451</td><td>426.9627</td><td>14.29820</td><td>65.74797</td><td>3.982786</td><td>900</td></tr>\n",
       "\t<tr><th scope=row>2</th><td>1</td><td>7.156399</td><td>195.7326</td><td>22490.44</td><td>7.202337</td><td>332.4364</td><td>427.1851</td><td>14.24227</td><td>66.11322</td><td>3.975624</td><td>608</td></tr>\n",
       "</tbody>\n",
       "</table>\n"
      ],
      "text/latex": [
       "A data.frame: 2 × 11\n",
       "\\begin{tabular}{r|lllllllllll}\n",
       "  & potability & ph & hardness & solids & chloramines & sulfate & conductivity & organic\\_carbon & trihalomethanes & turbidity & n\\\\\n",
       "  & <fct> & <dbl> & <dbl> & <dbl> & <dbl> & <dbl> & <dbl> & <dbl> & <dbl> & <dbl> & <int>\\\\\n",
       "\\hline\n",
       "\t1 & 0 & 7.049229 & 196.0582 & 21904.64 & 7.147800 & 332.8451 & 426.9627 & 14.29820 & 65.74797 & 3.982786 & 900\\\\\n",
       "\t2 & 1 & 7.156399 & 195.7326 & 22490.44 & 7.202337 & 332.4364 & 427.1851 & 14.24227 & 66.11322 & 3.975624 & 608\\\\\n",
       "\\end{tabular}\n"
      ],
      "text/markdown": [
       "\n",
       "A data.frame: 2 × 11\n",
       "\n",
       "| <!--/--> | potability &lt;fct&gt; | ph &lt;dbl&gt; | hardness &lt;dbl&gt; | solids &lt;dbl&gt; | chloramines &lt;dbl&gt; | sulfate &lt;dbl&gt; | conductivity &lt;dbl&gt; | organic_carbon &lt;dbl&gt; | trihalomethanes &lt;dbl&gt; | turbidity &lt;dbl&gt; | n &lt;int&gt; |\n",
       "|---|---|---|---|---|---|---|---|---|---|---|---|\n",
       "| 1 | 0 | 7.049229 | 196.0582 | 21904.64 | 7.147800 | 332.8451 | 426.9627 | 14.29820 | 65.74797 | 3.982786 | 900 |\n",
       "| 2 | 1 | 7.156399 | 195.7326 | 22490.44 | 7.202337 | 332.4364 | 427.1851 | 14.24227 | 66.11322 | 3.975624 | 608 |\n",
       "\n"
      ],
      "text/plain": [
       "  potability ph       hardness solids   chloramines sulfate  conductivity\n",
       "1 0          7.049229 196.0582 21904.64 7.147800    332.8451 426.9627    \n",
       "2 1          7.156399 195.7326 22490.44 7.202337    332.4364 427.1851    \n",
       "  organic_carbon trihalomethanes turbidity n  \n",
       "1 14.29820       65.74797        3.982786  900\n",
       "2 14.24227       66.11322        3.975624  608"
      ]
     },
     "metadata": {},
     "output_type": "display_data"
    },
    {
     "data": {
      "text/html": [
       "<table class=\"dataframe\">\n",
       "<caption>A tibble: 13572 × 3</caption>\n",
       "<thead>\n",
       "\t<tr><th scope=col>potability</th><th scope=col>predictor</th><th scope=col>value</th></tr>\n",
       "\t<tr><th scope=col>&lt;fct&gt;</th><th scope=col>&lt;chr&gt;</th><th scope=col>&lt;dbl&gt;</th></tr>\n",
       "</thead>\n",
       "<tbody>\n",
       "\t<tr><td>0</td><td>ph             </td><td>0.5631671</td></tr>\n",
       "\t<tr><td>0</td><td>hardness       </td><td>0.5777467</td></tr>\n",
       "\t<tr><td>0</td><td>solids         </td><td>0.3765523</td></tr>\n",
       "\t<tr><td>0</td><td>chloramines    </td><td>0.5681994</td></tr>\n",
       "\t<tr><td>0</td><td>sulfate        </td><td>0.6473474</td></tr>\n",
       "\t<tr><td>0</td><td>conductivity   </td><td>0.3190775</td></tr>\n",
       "\t<tr><td>0</td><td>organic_carbon </td><td>0.6197779</td></tr>\n",
       "\t<tr><td>0</td><td>trihalomethanes</td><td>0.7950293</td></tr>\n",
       "\t<tr><td>0</td><td>turbidity      </td><td>0.6301148</td></tr>\n",
       "\t<tr><td>0</td><td>ph             </td><td>0.6227715</td></tr>\n",
       "\t<tr><td>0</td><td>hardness       </td><td>0.4413003</td></tr>\n",
       "\t<tr><td>0</td><td>solids         </td><td>0.3034929</td></tr>\n",
       "\t<tr><td>0</td><td>chloramines    </td><td>0.4393041</td></tr>\n",
       "\t<tr><td>0</td><td>sulfate        </td><td>0.5145454</td></tr>\n",
       "\t<tr><td>0</td><td>conductivity   </td><td>0.3884495</td></tr>\n",
       "\t<tr><td>0</td><td>organic_carbon </td><td>0.3146197</td></tr>\n",
       "\t<tr><td>0</td><td>trihalomethanes</td><td>0.2029143</td></tr>\n",
       "\t<tr><td>0</td><td>turbidity      </td><td>0.5203580</td></tr>\n",
       "\t<tr><td>0</td><td>ph             </td><td>0.3531240</td></tr>\n",
       "\t<tr><td>0</td><td>hardness       </td><td>0.4708756</td></tr>\n",
       "\t<tr><td>0</td><td>solids         </td><td>0.4982796</td></tr>\n",
       "\t<tr><td>0</td><td>chloramines    </td><td>0.5243635</td></tr>\n",
       "\t<tr><td>0</td><td>sulfate        </td><td>0.5615374</td></tr>\n",
       "\t<tr><td>0</td><td>conductivity   </td><td>0.1556398</td></tr>\n",
       "\t<tr><td>0</td><td>organic_carbon </td><td>0.1744886</td></tr>\n",
       "\t<tr><td>0</td><td>trihalomethanes</td><td>0.4014872</td></tr>\n",
       "\t<tr><td>0</td><td>turbidity      </td><td>0.2199730</td></tr>\n",
       "\t<tr><td>0</td><td>ph             </td><td>0.5876929</td></tr>\n",
       "\t<tr><td>0</td><td>hardness       </td><td>0.5325876</td></tr>\n",
       "\t<tr><td>0</td><td>solids         </td><td>0.2255961</td></tr>\n",
       "\t<tr><td>⋮</td><td>⋮</td><td>⋮</td></tr>\n",
       "\t<tr><td>1</td><td>organic_carbon </td><td>0.24100972</td></tr>\n",
       "\t<tr><td>1</td><td>trihalomethanes</td><td>0.40279924</td></tr>\n",
       "\t<tr><td>1</td><td>turbidity      </td><td>0.62715571</td></tr>\n",
       "\t<tr><td>1</td><td>ph             </td><td>0.43909268</td></tr>\n",
       "\t<tr><td>1</td><td>hardness       </td><td>0.54882554</td></tr>\n",
       "\t<tr><td>1</td><td>solids         </td><td>0.29025240</td></tr>\n",
       "\t<tr><td>1</td><td>chloramines    </td><td>0.53827340</td></tr>\n",
       "\t<tr><td>1</td><td>sulfate        </td><td>0.49856521</td></tr>\n",
       "\t<tr><td>1</td><td>conductivity   </td><td>0.25196327</td></tr>\n",
       "\t<tr><td>1</td><td>organic_carbon </td><td>0.52132054</td></tr>\n",
       "\t<tr><td>1</td><td>trihalomethanes</td><td>0.17588861</td></tr>\n",
       "\t<tr><td>1</td><td>turbidity      </td><td>0.39506093</td></tr>\n",
       "\t<tr><td>1</td><td>ph             </td><td>0.80715049</td></tr>\n",
       "\t<tr><td>1</td><td>hardness       </td><td>0.08743355</td></tr>\n",
       "\t<tr><td>1</td><td>solids         </td><td>0.65093252</td></tr>\n",
       "\t<tr><td>1</td><td>chloramines    </td><td>0.67077443</td></tr>\n",
       "\t<tr><td>1</td><td>sulfate        </td><td>0.36908889</td></tr>\n",
       "\t<tr><td>1</td><td>conductivity   </td><td>0.47033313</td></tr>\n",
       "\t<tr><td>1</td><td>organic_carbon </td><td>0.51934416</td></tr>\n",
       "\t<tr><td>1</td><td>trihalomethanes</td><td>0.28574454</td></tr>\n",
       "\t<tr><td>1</td><td>turbidity      </td><td>0.57867390</td></tr>\n",
       "\t<tr><td>1</td><td>ph             </td><td>0.28271827</td></tr>\n",
       "\t<tr><td>1</td><td>hardness       </td><td>0.49289123</td></tr>\n",
       "\t<tr><td>1</td><td>solids         </td><td>0.83889086</td></tr>\n",
       "\t<tr><td>1</td><td>chloramines    </td><td>0.49213569</td></tr>\n",
       "\t<tr><td>1</td><td>sulfate        </td><td>0.65604679</td></tr>\n",
       "\t<tr><td>1</td><td>conductivity   </td><td>0.64113736</td></tr>\n",
       "\t<tr><td>1</td><td>organic_carbon </td><td>0.41826415</td></tr>\n",
       "\t<tr><td>1</td><td>trihalomethanes</td><td>0.50345848</td></tr>\n",
       "\t<tr><td>1</td><td>turbidity      </td><td>0.59186714</td></tr>\n",
       "</tbody>\n",
       "</table>\n"
      ],
      "text/latex": [
       "A tibble: 13572 × 3\n",
       "\\begin{tabular}{lll}\n",
       " potability & predictor & value\\\\\n",
       " <fct> & <chr> & <dbl>\\\\\n",
       "\\hline\n",
       "\t 0 & ph              & 0.5631671\\\\\n",
       "\t 0 & hardness        & 0.5777467\\\\\n",
       "\t 0 & solids          & 0.3765523\\\\\n",
       "\t 0 & chloramines     & 0.5681994\\\\\n",
       "\t 0 & sulfate         & 0.6473474\\\\\n",
       "\t 0 & conductivity    & 0.3190775\\\\\n",
       "\t 0 & organic\\_carbon  & 0.6197779\\\\\n",
       "\t 0 & trihalomethanes & 0.7950293\\\\\n",
       "\t 0 & turbidity       & 0.6301148\\\\\n",
       "\t 0 & ph              & 0.6227715\\\\\n",
       "\t 0 & hardness        & 0.4413003\\\\\n",
       "\t 0 & solids          & 0.3034929\\\\\n",
       "\t 0 & chloramines     & 0.4393041\\\\\n",
       "\t 0 & sulfate         & 0.5145454\\\\\n",
       "\t 0 & conductivity    & 0.3884495\\\\\n",
       "\t 0 & organic\\_carbon  & 0.3146197\\\\\n",
       "\t 0 & trihalomethanes & 0.2029143\\\\\n",
       "\t 0 & turbidity       & 0.5203580\\\\\n",
       "\t 0 & ph              & 0.3531240\\\\\n",
       "\t 0 & hardness        & 0.4708756\\\\\n",
       "\t 0 & solids          & 0.4982796\\\\\n",
       "\t 0 & chloramines     & 0.5243635\\\\\n",
       "\t 0 & sulfate         & 0.5615374\\\\\n",
       "\t 0 & conductivity    & 0.1556398\\\\\n",
       "\t 0 & organic\\_carbon  & 0.1744886\\\\\n",
       "\t 0 & trihalomethanes & 0.4014872\\\\\n",
       "\t 0 & turbidity       & 0.2199730\\\\\n",
       "\t 0 & ph              & 0.5876929\\\\\n",
       "\t 0 & hardness        & 0.5325876\\\\\n",
       "\t 0 & solids          & 0.2255961\\\\\n",
       "\t ⋮ & ⋮ & ⋮\\\\\n",
       "\t 1 & organic\\_carbon  & 0.24100972\\\\\n",
       "\t 1 & trihalomethanes & 0.40279924\\\\\n",
       "\t 1 & turbidity       & 0.62715571\\\\\n",
       "\t 1 & ph              & 0.43909268\\\\\n",
       "\t 1 & hardness        & 0.54882554\\\\\n",
       "\t 1 & solids          & 0.29025240\\\\\n",
       "\t 1 & chloramines     & 0.53827340\\\\\n",
       "\t 1 & sulfate         & 0.49856521\\\\\n",
       "\t 1 & conductivity    & 0.25196327\\\\\n",
       "\t 1 & organic\\_carbon  & 0.52132054\\\\\n",
       "\t 1 & trihalomethanes & 0.17588861\\\\\n",
       "\t 1 & turbidity       & 0.39506093\\\\\n",
       "\t 1 & ph              & 0.80715049\\\\\n",
       "\t 1 & hardness        & 0.08743355\\\\\n",
       "\t 1 & solids          & 0.65093252\\\\\n",
       "\t 1 & chloramines     & 0.67077443\\\\\n",
       "\t 1 & sulfate         & 0.36908889\\\\\n",
       "\t 1 & conductivity    & 0.47033313\\\\\n",
       "\t 1 & organic\\_carbon  & 0.51934416\\\\\n",
       "\t 1 & trihalomethanes & 0.28574454\\\\\n",
       "\t 1 & turbidity       & 0.57867390\\\\\n",
       "\t 1 & ph              & 0.28271827\\\\\n",
       "\t 1 & hardness        & 0.49289123\\\\\n",
       "\t 1 & solids          & 0.83889086\\\\\n",
       "\t 1 & chloramines     & 0.49213569\\\\\n",
       "\t 1 & sulfate         & 0.65604679\\\\\n",
       "\t 1 & conductivity    & 0.64113736\\\\\n",
       "\t 1 & organic\\_carbon  & 0.41826415\\\\\n",
       "\t 1 & trihalomethanes & 0.50345848\\\\\n",
       "\t 1 & turbidity       & 0.59186714\\\\\n",
       "\\end{tabular}\n"
      ],
      "text/markdown": [
       "\n",
       "A tibble: 13572 × 3\n",
       "\n",
       "| potability &lt;fct&gt; | predictor &lt;chr&gt; | value &lt;dbl&gt; |\n",
       "|---|---|---|\n",
       "| 0 | ph              | 0.5631671 |\n",
       "| 0 | hardness        | 0.5777467 |\n",
       "| 0 | solids          | 0.3765523 |\n",
       "| 0 | chloramines     | 0.5681994 |\n",
       "| 0 | sulfate         | 0.6473474 |\n",
       "| 0 | conductivity    | 0.3190775 |\n",
       "| 0 | organic_carbon  | 0.6197779 |\n",
       "| 0 | trihalomethanes | 0.7950293 |\n",
       "| 0 | turbidity       | 0.6301148 |\n",
       "| 0 | ph              | 0.6227715 |\n",
       "| 0 | hardness        | 0.4413003 |\n",
       "| 0 | solids          | 0.3034929 |\n",
       "| 0 | chloramines     | 0.4393041 |\n",
       "| 0 | sulfate         | 0.5145454 |\n",
       "| 0 | conductivity    | 0.3884495 |\n",
       "| 0 | organic_carbon  | 0.3146197 |\n",
       "| 0 | trihalomethanes | 0.2029143 |\n",
       "| 0 | turbidity       | 0.5203580 |\n",
       "| 0 | ph              | 0.3531240 |\n",
       "| 0 | hardness        | 0.4708756 |\n",
       "| 0 | solids          | 0.4982796 |\n",
       "| 0 | chloramines     | 0.5243635 |\n",
       "| 0 | sulfate         | 0.5615374 |\n",
       "| 0 | conductivity    | 0.1556398 |\n",
       "| 0 | organic_carbon  | 0.1744886 |\n",
       "| 0 | trihalomethanes | 0.4014872 |\n",
       "| 0 | turbidity       | 0.2199730 |\n",
       "| 0 | ph              | 0.5876929 |\n",
       "| 0 | hardness        | 0.5325876 |\n",
       "| 0 | solids          | 0.2255961 |\n",
       "| ⋮ | ⋮ | ⋮ |\n",
       "| 1 | organic_carbon  | 0.24100972 |\n",
       "| 1 | trihalomethanes | 0.40279924 |\n",
       "| 1 | turbidity       | 0.62715571 |\n",
       "| 1 | ph              | 0.43909268 |\n",
       "| 1 | hardness        | 0.54882554 |\n",
       "| 1 | solids          | 0.29025240 |\n",
       "| 1 | chloramines     | 0.53827340 |\n",
       "| 1 | sulfate         | 0.49856521 |\n",
       "| 1 | conductivity    | 0.25196327 |\n",
       "| 1 | organic_carbon  | 0.52132054 |\n",
       "| 1 | trihalomethanes | 0.17588861 |\n",
       "| 1 | turbidity       | 0.39506093 |\n",
       "| 1 | ph              | 0.80715049 |\n",
       "| 1 | hardness        | 0.08743355 |\n",
       "| 1 | solids          | 0.65093252 |\n",
       "| 1 | chloramines     | 0.67077443 |\n",
       "| 1 | sulfate         | 0.36908889 |\n",
       "| 1 | conductivity    | 0.47033313 |\n",
       "| 1 | organic_carbon  | 0.51934416 |\n",
       "| 1 | trihalomethanes | 0.28574454 |\n",
       "| 1 | turbidity       | 0.57867390 |\n",
       "| 1 | ph              | 0.28271827 |\n",
       "| 1 | hardness        | 0.49289123 |\n",
       "| 1 | solids          | 0.83889086 |\n",
       "| 1 | chloramines     | 0.49213569 |\n",
       "| 1 | sulfate         | 0.65604679 |\n",
       "| 1 | conductivity    | 0.64113736 |\n",
       "| 1 | organic_carbon  | 0.41826415 |\n",
       "| 1 | trihalomethanes | 0.50345848 |\n",
       "| 1 | turbidity       | 0.59186714 |\n",
       "\n"
      ],
      "text/plain": [
       "      potability predictor       value     \n",
       "1     0          ph              0.5631671 \n",
       "2     0          hardness        0.5777467 \n",
       "3     0          solids          0.3765523 \n",
       "4     0          chloramines     0.5681994 \n",
       "5     0          sulfate         0.6473474 \n",
       "6     0          conductivity    0.3190775 \n",
       "7     0          organic_carbon  0.6197779 \n",
       "8     0          trihalomethanes 0.7950293 \n",
       "9     0          turbidity       0.6301148 \n",
       "10    0          ph              0.6227715 \n",
       "11    0          hardness        0.4413003 \n",
       "12    0          solids          0.3034929 \n",
       "13    0          chloramines     0.4393041 \n",
       "14    0          sulfate         0.5145454 \n",
       "15    0          conductivity    0.3884495 \n",
       "16    0          organic_carbon  0.3146197 \n",
       "17    0          trihalomethanes 0.2029143 \n",
       "18    0          turbidity       0.5203580 \n",
       "19    0          ph              0.3531240 \n",
       "20    0          hardness        0.4708756 \n",
       "21    0          solids          0.4982796 \n",
       "22    0          chloramines     0.5243635 \n",
       "23    0          sulfate         0.5615374 \n",
       "24    0          conductivity    0.1556398 \n",
       "25    0          organic_carbon  0.1744886 \n",
       "26    0          trihalomethanes 0.4014872 \n",
       "27    0          turbidity       0.2199730 \n",
       "28    0          ph              0.5876929 \n",
       "29    0          hardness        0.5325876 \n",
       "30    0          solids          0.2255961 \n",
       "⋮     ⋮          ⋮               ⋮         \n",
       "13543 1          organic_carbon  0.24100972\n",
       "13544 1          trihalomethanes 0.40279924\n",
       "13545 1          turbidity       0.62715571\n",
       "13546 1          ph              0.43909268\n",
       "13547 1          hardness        0.54882554\n",
       "13548 1          solids          0.29025240\n",
       "13549 1          chloramines     0.53827340\n",
       "13550 1          sulfate         0.49856521\n",
       "13551 1          conductivity    0.25196327\n",
       "13552 1          organic_carbon  0.52132054\n",
       "13553 1          trihalomethanes 0.17588861\n",
       "13554 1          turbidity       0.39506093\n",
       "13555 1          ph              0.80715049\n",
       "13556 1          hardness        0.08743355\n",
       "13557 1          solids          0.65093252\n",
       "13558 1          chloramines     0.67077443\n",
       "13559 1          sulfate         0.36908889\n",
       "13560 1          conductivity    0.47033313\n",
       "13561 1          organic_carbon  0.51934416\n",
       "13562 1          trihalomethanes 0.28574454\n",
       "13563 1          turbidity       0.57867390\n",
       "13564 1          ph              0.28271827\n",
       "13565 1          hardness        0.49289123\n",
       "13566 1          solids          0.83889086\n",
       "13567 1          chloramines     0.49213569\n",
       "13568 1          sulfate         0.65604679\n",
       "13569 1          conductivity    0.64113736\n",
       "13570 1          organic_carbon  0.41826415\n",
       "13571 1          trihalomethanes 0.50345848\n",
       "13572 1          turbidity       0.59186714"
      ]
     },
     "metadata": {},
     "output_type": "display_data"
    },
    {
     "data": {
      "image/png": "[encoded data removed]",
      "text/plain": [
       "plot without title"
      ]
     },
     "metadata": {
      "image/png": {
       "height": 420,
       "width": 420
      }
     },
     "output_type": "display_data"
    }
   ],
   "source": [
    "water_split <- water_potability_clean |> #Split the data 0.75/0.25\n",
    "    initial_split(prop = 0.75, strata = potability) \n",
    "\n",
    "water_train <- training(water_split)  #Set the 0.75 split as the training data\n",
    "\n",
    "min_table <- water_train |> #Find means for all predictors grouped by potability\n",
    "    select(-potability) |>\n",
    "    map_df(min)\n",
    "\n",
    "max_table <- water_train |> #Find means for all predictors grouped by potability\n",
    "    select(-potability) |>\n",
    "    map_df(max)\n",
    "\n",
    "diff_table <- max_table - min_table\n",
    "\n",
    "min_table\n",
    "\n",
    "max_table\n",
    "\n",
    "diff_table\n",
    "\n",
    "scaled_table <- water_train |> #Scale all predictor columns\n",
    "    select(-potability) |>\n",
    "    mutate(ph = (ph - min_table$ph) / diff_table$ph, \n",
    "           hardness = (hardness - min_table$hardness) / diff_table$hardness,\n",
    "           solids = (solids - min_table$solids) / diff_table$solids, \n",
    "           chloramines = (chloramines - min_table$chloramines) / diff_table$chloramines,\n",
    "           sulfate = (sulfate - min_table$sulfate) / diff_table$sulfate, \n",
    "           conductivity = (conductivity - min_table$conductivity) / diff_table$conductivity,\n",
    "           organic_carbon = (organic_carbon - min_table$organic_carbon) / diff_table$organic_carbon, \n",
    "           trihalomethanes = (trihalomethanes - min_table$trihalomethanes) / diff_table$trihalomethanes,\n",
    "           turbidity = (turbidity - min_table$turbidity) / diff_table$turbidity)\n",
    "\n",
    "head(scaled_table)\n",
    "\n",
    "potability_column <- select(water_train, potability) #Remove the \"potability\" column\n",
    "\n",
    "scaled_table_potability <- bind_cols(scaled_table, potability = potability_column) #Reattach the \"potability\" column\n",
    "\n",
    "means_table <- water_train |> #Find means for all predictors grouped by potability\n",
    "    group_by(potability) |>\n",
    "    summarize(across(ph:turbidity, mean, na.rm=TRUE))\n",
    "\n",
    "rowcount_table <- water_train |> #Count number of observations in the two groups\n",
    "    group_by(potability) |>\n",
    "    summarize(n = n())\n",
    "\n",
    "summary_table <- means_table |> #Merge grouped n dataframe with grouped means dataframe\n",
    "    merge(rowcount_table)\n",
    "\n",
    "head(summary_table)\n",
    "\n",
    "scaled_table_potability_longer <- scaled_table_potability |> #Pivot longer, generating columns \"predictor\" and \"value\"\n",
    "    pivot_longer(c(ph, hardness, solids, chloramines, sulfate, conductivity, organic_carbon, trihalomethanes, turbidity), names_to = \"predictor\")\n",
    "\n",
    "scaled_table_potability_longer\n",
    "\n",
    "bar_plot <- scaled_table_potability_longer |> #Bar plot\n",
    "    ggplot(aes(y = reorder(predictor, value),x = value, fill = potability)) + \n",
    "    geom_bar(position = 'dodge', stat = \"Identity\") + \n",
    "    xlab(\"Standardized value\") +\n",
    "    ylab(\"Predictor\") +\n",
    "    labs(fill = \"Water Potability\") +\n",
    "    ggtitle(\"TITLE HERE\") +\n",
    "    theme(text = element_text(size = 15))\n",
    "\n",
    "bar_plot"
   ]
  },
  {
   "cell_type": "code",
   "execution_count": null,
   "id": "2d83d0d0-c138-499d-ae22-f657266ccb47",
   "metadata": {},
   "outputs": [],
   "source": []
  },
  {
   "cell_type": "markdown",
   "id": "c68b7af1-ae4c-4bb3-914e-109be87dc15e",
   "metadata": {},
   "source": [
    "### Methods\n",
    "* Explain how you will conduct either your data analysis and which variables/columns you will use. Note - you do not need to use all variables/columns that exist in the raw data set. In fact, that's often not a good idea. For each variable think: is this a useful variable for prediction?\n",
    "* Describe at least one way that you will visualize the results.\n",
    "\n",
    "[WRITE HERE]"
   ]
  },
  {
   "cell_type": "markdown",
   "id": "2fc0a17f-24ac-4d13-b92f-ac869df73e5f",
   "metadata": {
    "jp-MarkdownHeadingCollapsed": true,
    "tags": []
   },
   "source": [
    "### Expected outcomes and significance\n",
    "- What do you expect to find? \n",
    "- What impact could such findings have?\n",
    "- What future questions could this lead to?\n",
    "\n",
    "[WRITE HERE]\n",
    "- Our goal is to show how a classification model can be trained to accurately determine, based on measurable variables such as pH, Hardness, Turbidity etc, whether an unknown sample of water is potable.\n",
    "- Water is a basic requirement for human life. Lack of access to potable water is an issue that continues to affect many regions globally. Using this prediction we hope to recognize which and how many water bodies are not safe to drink and what causes that variability."
   ]
  },
  {
   "cell_type": "code",
   "execution_count": null,
   "id": "6e4106cc-4e59-45ee-9943-966c742e56bb",
   "metadata": {},
   "outputs": [],
   "source": []
  }
 ],
 "metadata": {
  "kernelspec": {
   "display_name": "R",
   "language": "R",
   "name": "ir"
  },
  "language_info": {
   "codemirror_mode": "r",
   "file_extension": ".r",
   "mimetype": "text/x-r-source",
   "name": "R",
   "pygments_lexer": "r",
   "version": "4.1.3"
  }
 },
 "nbformat": 4,
 "nbformat_minor": 5
}
