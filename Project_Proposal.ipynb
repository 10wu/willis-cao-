{
 "cells": [
  {
   "cell_type": "markdown",
   "id": "7a2e8b5f-3486-427b-941d-29f9be3c97b6",
   "metadata": {},
   "source": [
    "#Project Proposal (Group 93)\n",
    "##Water Potability"
   ]
  },
  {
   "cell_type": "markdown",
   "id": "403faf29-8756-4419-b8f1-098f61233865",
   "metadata": {},
   "source": [
    "###Introduction\n",
    "* Provide some relevant background information on the topic so that someone unfamiliar with it will be prepared to understand the rest of your proposal\n",
    "* Clearly state the question you will try to answer with your project\n",
    "* Identify and describe the dataset that will be used to answer the question"
   ]
  },
  {
   "cell_type": "markdown",
   "id": "d54459a6-2a69-450c-8a38-e78bc89a43ff",
   "metadata": {},
   "source": [
    "###Preliminary exploratory data analysis\n",
    "* Demonstrate that the dataset can be read from the web into R \n",
    "* Clean and wrangle your data into a tidy format\n",
    "* Using only training data, summarize the data in at least one table (this is exploratory data analysis). An example of a useful table could be one that reports the number of observations in each class, the means of the predictor variables you plan to use in your analysis and how many rows have missing data. \n",
    "* Using only training data, visualize the data with at least one plot relevant to the analysis you plan to do (this is exploratory data analysis). An example of a useful visualization could be one that compares the distributions of each of the predictor variables you plan to use in your analysis."
   ]
  },
  {
   "cell_type": "markdown",
   "id": "c68b7af1-ae4c-4bb3-914e-109be87dc15e",
   "metadata": {},
   "source": [
    "###Methods\n",
    "* Explain how you will conduct either your data analysis and which variables/columns you will use. Note - you do not need to use all variables/columns that exist in the raw data set. In fact, that's often not a good idea. For each variable think: is this a useful variable for prediction?\n",
    "* Describe at least one way that you will visualize the results"
   ]
  },
  {
   "cell_type": "markdown",
   "id": "2fc0a17f-24ac-4d13-b92f-ac869df73e5f",
   "metadata": {},
   "source": [
    "###Expected outcomes and significance\n",
    "* What do you expect to find?\n",
    "* What impact could such findings have?\n",
    "* What future questions could this lead to?"
   ]
  }
 ],
 "metadata": {
  "kernelspec": {
   "display_name": "R",
   "language": "R",
   "name": "ir"
  },
  "language_info": {
   "codemirror_mode": "r",
   "file_extension": ".r",
   "mimetype": "text/x-r-source",
   "name": "R",
   "pygments_lexer": "r",
   "version": "4.1.3"
  }
 },
 "nbformat": 4,
 "nbformat_minor": 5
}
